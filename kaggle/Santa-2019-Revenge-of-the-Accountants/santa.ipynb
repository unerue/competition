{
 "cells": [
  {
   "cell_type": "code",
   "execution_count": null,
   "metadata": {},
   "outputs": [],
   "source": [
    "# https://www.kaggle.com/c/santa-2019-revenge-of-the-accountants/overview\n",
    "# https://www.kaggle.com/golubev/mip-optimization-preference-cost-santa2019revenge\n",
    "# https://www.kaggle.com/vipito/fork-of-santa-ip"
   ]
  },
  {
   "cell_type": "code",
   "execution_count": null,
   "metadata": {},
   "outputs": [],
   "source": []
  },
  {
   "cell_type": "code",
   "execution_count": 1,
   "metadata": {
    "_cell_guid": "b1076dfc-b9ad-4769-8c92-a6c4dae69d19",
    "_uuid": "8f2839f25d086af736a60e9eeb907d3b93b6e0e5"
   },
   "outputs": [
    {
     "name": "stdout",
     "output_type": "stream",
     "text": [
      "/kaggle/input/santa-2019-revenge-of-the-accountants/family_data.csv\n",
      "/kaggle/input/santa-2019-revenge-of-the-accountants/sample_submission.csv\n"
     ]
    }
   ],
   "source": [
    "# This Python 3 environment comes with many helpful analytics libraries installed\n",
    "# It is defined by the kaggle/python docker image: https://github.com/kaggle/docker-python\n",
    "# For example, here's several helpful packages to load in \n",
    "\n",
    "import numpy as np # linear algebra\n",
    "import pandas as pd # data processing, CSV file I/O (e.g. pd.read_csv)\n",
    "\n",
    "# Input data files are available in the \"../input/\" directory.\n",
    "# For example, running this (by clicking run or pressing Shift+Enter) will list all files under the input directory\n",
    "\n",
    "import os\n",
    "for dirname, _, filenames in os.walk('/kaggle/input'):\n",
    "    for filename in filenames:\n",
    "        print(os.path.join(dirname, filename))\n",
    "\n",
    "# Any results you write to the current directory are saved as output."
   ]
  },
  {
   "cell_type": "code",
   "execution_count": 2,
   "metadata": {},
   "outputs": [
    {
     "name": "stdout",
     "output_type": "stream",
     "text": [
      "Collecting pulp\n",
      "\u001b[?25l  Downloading https://files.pythonhosted.org/packages/fb/34/ff5915ff6bae91cfb7c4cc22c3c369a6aea0b2127045dd5f308a91c260ac/PuLP-2.0-py3-none-any.whl (39.2MB)\n",
      "\u001b[K     |████████████████████████████████| 39.2MB 355kB/s \n",
      "\u001b[?25hRequirement already satisfied, skipping upgrade: pyparsing>=2.0.1 in /opt/conda/lib/python3.6/site-packages (from pulp) (2.4.5)\n",
      "Installing collected packages: pulp\n",
      "Successfully installed pulp-2.0\n"
     ]
    }
   ],
   "source": [
    "!pip install -U pulp"
   ]
  },
  {
   "cell_type": "code",
   "execution_count": 3,
   "metadata": {
    "_cell_guid": "79c7e3d0-c299-4dcb-8224-4455121ee9b0",
    "_uuid": "d629ff2d2480ee46fbb7e2d37f6b5fab8052498a"
   },
   "outputs": [],
   "source": [
    "fpath = '/kaggle/input/santa-2019-revenge-of-the-accountants/family_data.csv'\n",
    "data = pd.read_csv(fpath, index_col='family_id')\n",
    "\n",
    "fpath = '/kaggle/input/santa-2019-revenge-of-the-accountants/sample_submission.csv'\n",
    "submission = pd.read_csv(fpath, index_col='family_id')"
   ]
  },
  {
   "cell_type": "code",
   "execution_count": 4,
   "metadata": {},
   "outputs": [
    {
     "data": {
      "text/html": [
       "<div>\n",
       "<style scoped>\n",
       "    .dataframe tbody tr th:only-of-type {\n",
       "        vertical-align: middle;\n",
       "    }\n",
       "\n",
       "    .dataframe tbody tr th {\n",
       "        vertical-align: top;\n",
       "    }\n",
       "\n",
       "    .dataframe thead th {\n",
       "        text-align: right;\n",
       "    }\n",
       "</style>\n",
       "<table border=\"1\" class=\"dataframe\">\n",
       "  <thead>\n",
       "    <tr style=\"text-align: right;\">\n",
       "      <th></th>\n",
       "      <th>choice_0</th>\n",
       "      <th>choice_1</th>\n",
       "      <th>choice_2</th>\n",
       "      <th>choice_3</th>\n",
       "      <th>choice_4</th>\n",
       "      <th>choice_5</th>\n",
       "      <th>choice_6</th>\n",
       "      <th>choice_7</th>\n",
       "      <th>choice_8</th>\n",
       "      <th>choice_9</th>\n",
       "      <th>n_people</th>\n",
       "    </tr>\n",
       "    <tr>\n",
       "      <th>family_id</th>\n",
       "      <th></th>\n",
       "      <th></th>\n",
       "      <th></th>\n",
       "      <th></th>\n",
       "      <th></th>\n",
       "      <th></th>\n",
       "      <th></th>\n",
       "      <th></th>\n",
       "      <th></th>\n",
       "      <th></th>\n",
       "      <th></th>\n",
       "    </tr>\n",
       "  </thead>\n",
       "  <tbody>\n",
       "    <tr>\n",
       "      <th>0</th>\n",
       "      <td>68</td>\n",
       "      <td>4</td>\n",
       "      <td>26</td>\n",
       "      <td>3</td>\n",
       "      <td>45</td>\n",
       "      <td>80</td>\n",
       "      <td>61</td>\n",
       "      <td>89</td>\n",
       "      <td>6</td>\n",
       "      <td>31</td>\n",
       "      <td>6</td>\n",
       "    </tr>\n",
       "    <tr>\n",
       "      <th>1</th>\n",
       "      <td>66</td>\n",
       "      <td>17</td>\n",
       "      <td>82</td>\n",
       "      <td>4</td>\n",
       "      <td>29</td>\n",
       "      <td>52</td>\n",
       "      <td>46</td>\n",
       "      <td>77</td>\n",
       "      <td>75</td>\n",
       "      <td>60</td>\n",
       "      <td>2</td>\n",
       "    </tr>\n",
       "    <tr>\n",
       "      <th>2</th>\n",
       "      <td>89</td>\n",
       "      <td>23</td>\n",
       "      <td>5</td>\n",
       "      <td>27</td>\n",
       "      <td>1</td>\n",
       "      <td>24</td>\n",
       "      <td>53</td>\n",
       "      <td>11</td>\n",
       "      <td>9</td>\n",
       "      <td>17</td>\n",
       "      <td>2</td>\n",
       "    </tr>\n",
       "    <tr>\n",
       "      <th>3</th>\n",
       "      <td>66</td>\n",
       "      <td>80</td>\n",
       "      <td>35</td>\n",
       "      <td>59</td>\n",
       "      <td>4</td>\n",
       "      <td>96</td>\n",
       "      <td>87</td>\n",
       "      <td>94</td>\n",
       "      <td>1</td>\n",
       "      <td>33</td>\n",
       "      <td>3</td>\n",
       "    </tr>\n",
       "    <tr>\n",
       "      <th>4</th>\n",
       "      <td>29</td>\n",
       "      <td>52</td>\n",
       "      <td>24</td>\n",
       "      <td>33</td>\n",
       "      <td>27</td>\n",
       "      <td>2</td>\n",
       "      <td>45</td>\n",
       "      <td>20</td>\n",
       "      <td>12</td>\n",
       "      <td>21</td>\n",
       "      <td>3</td>\n",
       "    </tr>\n",
       "  </tbody>\n",
       "</table>\n",
       "</div>"
      ],
      "text/plain": [
       "           choice_0  choice_1  choice_2  choice_3  choice_4  choice_5  \\\n",
       "family_id                                                               \n",
       "0                68         4        26         3        45        80   \n",
       "1                66        17        82         4        29        52   \n",
       "2                89        23         5        27         1        24   \n",
       "3                66        80        35        59         4        96   \n",
       "4                29        52        24        33        27         2   \n",
       "\n",
       "           choice_6  choice_7  choice_8  choice_9  n_people  \n",
       "family_id                                                    \n",
       "0                61        89         6        31         6  \n",
       "1                46        77        75        60         2  \n",
       "2                53        11         9        17         2  \n",
       "3                87        94         1        33         3  \n",
       "4                45        20        12        21         3  "
      ]
     },
     "execution_count": 4,
     "metadata": {},
     "output_type": "execute_result"
    }
   ],
   "source": [
    "data.head()"
   ]
  },
  {
   "cell_type": "code",
   "execution_count": 5,
   "metadata": {},
   "outputs": [
    {
     "data": {
      "text/html": [
       "<div>\n",
       "<style scoped>\n",
       "    .dataframe tbody tr th:only-of-type {\n",
       "        vertical-align: middle;\n",
       "    }\n",
       "\n",
       "    .dataframe tbody tr th {\n",
       "        vertical-align: top;\n",
       "    }\n",
       "\n",
       "    .dataframe thead th {\n",
       "        text-align: right;\n",
       "    }\n",
       "</style>\n",
       "<table border=\"1\" class=\"dataframe\">\n",
       "  <thead>\n",
       "    <tr style=\"text-align: right;\">\n",
       "      <th></th>\n",
       "      <th>assigned_day</th>\n",
       "    </tr>\n",
       "    <tr>\n",
       "      <th>family_id</th>\n",
       "      <th></th>\n",
       "    </tr>\n",
       "  </thead>\n",
       "  <tbody>\n",
       "    <tr>\n",
       "      <th>0</th>\n",
       "      <td>100</td>\n",
       "    </tr>\n",
       "    <tr>\n",
       "      <th>1</th>\n",
       "      <td>99</td>\n",
       "    </tr>\n",
       "    <tr>\n",
       "      <th>2</th>\n",
       "      <td>98</td>\n",
       "    </tr>\n",
       "    <tr>\n",
       "      <th>3</th>\n",
       "      <td>97</td>\n",
       "    </tr>\n",
       "    <tr>\n",
       "      <th>4</th>\n",
       "      <td>96</td>\n",
       "    </tr>\n",
       "  </tbody>\n",
       "</table>\n",
       "</div>"
      ],
      "text/plain": [
       "           assigned_day\n",
       "family_id              \n",
       "0                   100\n",
       "1                    99\n",
       "2                    98\n",
       "3                    97\n",
       "4                    96"
      ]
     },
     "execution_count": 5,
     "metadata": {},
     "output_type": "execute_result"
    }
   ],
   "source": [
    "submission.head()"
   ]
  },
  {
   "cell_type": "code",
   "execution_count": 6,
   "metadata": {},
   "outputs": [],
   "source": [
    "import numpy as np\n",
    "import pandas as pd\n",
    "from numba import njit\n",
    "from itertools import product\n",
    "\n",
    "\n",
    "def get_penalty(n, choice):\n",
    "    penalty = None\n",
    "    if choice == 0:\n",
    "        penalty = 0\n",
    "    elif choice == 1:\n",
    "        penalty = 50\n",
    "    elif choice == 2:\n",
    "        penalty = 50 + 9 * n\n",
    "    elif choice == 3:\n",
    "        penalty = 100 + 9 * n\n",
    "    elif choice == 4:\n",
    "        penalty = 200 + 9 * n\n",
    "    elif choice == 5:\n",
    "        penalty = 200 + 18 * n\n",
    "    elif choice == 6:\n",
    "        penalty = 300 + 18 * n\n",
    "    elif choice == 7:\n",
    "        penalty = 300 + 36 * n\n",
    "    elif choice == 8:\n",
    "        penalty = 400 + 36 * n\n",
    "    elif choice == 9:\n",
    "        penalty = 500 + 36 * n + 199 * n\n",
    "    else:\n",
    "        penalty = 500 + 36 * n + 398 * n\n",
    "    return penalty\n",
    "\n",
    "def preference_cost_matrix(data, days=100):\n",
    "    preference_matrix = np.zeros((n_families, days), dtype=np.int64)\n",
    "    for i in range(n_families):\n",
    "        desired = data.values[i, :-1]\n",
    "        preference_matrix[i, :] = get_penalty(family_sizes[i], 10)\n",
    "        for j, day in enumerate(desired):\n",
    "            preference_matrix[i, day-1] = get_penalty(family_sizes[i], j)\n",
    "\n",
    "    return preference_matrix\n",
    "\n",
    "def accounting_penalty_matrix():\n",
    "    accounting_matrix = np.zeros((500, 500, 6), dtype=np.float64)\n",
    "    for n in range(accounting_matrix.shape[0]):\n",
    "        for n_p1 in range(accounting_matrix.shape[1]):\n",
    "            for j in range(1, 6):\n",
    "                diff = abs(n - n_p1)\n",
    "                value = max(0, (n - 125) / 400 * (n**(0.5 + diff / 50.0)) / j**2) \n",
    "                accounting_matrix[n, n_p1, j] = value\n",
    "                \n",
    "    return accounting_matrix"
   ]
  },
  {
   "cell_type": "code",
   "execution_count": 7,
   "metadata": {},
   "outputs": [],
   "source": [
    "days = 100\n",
    "n_families = data.shape[0]\n",
    "family_sizes = data.n_people.values\n",
    "\n",
    "MAX_OCCUPANCY = 300\n",
    "MIN_OCCUPANCY = 125\n",
    "\n",
    "desired = data.values[:, :-1] - 1\n",
    "preference_matrix = preference_cost_matrix(data)\n",
    "accounting_matrix = accounting_penalty_matrix()"
   ]
  },
  {
   "cell_type": "code",
   "execution_count": 8,
   "metadata": {},
   "outputs": [],
   "source": [
    "from pulp import *\n",
    "\n",
    "thrs = 8\n",
    "\n",
    "indexs = []\n",
    "candidates = [[] for _ in range(days)]\n",
    "\n",
    "for i in range(data.shape[0]):\n",
    "    for j in desired[i, :]:\n",
    "        candidates[j].append(i)\n",
    "        indexs.append((i, j))\n",
    "        \n",
    "prob = LpProblem('Santa', LpMinimize)\n",
    "\n",
    "x = LpVariable.dicts('x', indexs, lowBound=0, cat='Continuous')\n",
    "\n",
    "daily_occupancy = [lpSum([x[i, j] * family_sizes[i] for i in candidates[j]]) for j in range(days)]\n",
    "family_presence = [lpSum([x[i, j] for j in desired[i, :]]) for i in range(n_families)]\n",
    "\n",
    "# Objective\n",
    "prob += lpSum([preference_matrix[i, j] * x[i, j] for i in range(n_families) for j in desired[i, :]])\n",
    "\n",
    "# Constraints\n",
    "for j in range(days-1):\n",
    "    prob += lpSum(daily_occupancy[j] - daily_occupancy[j+1]) <= thrs\n",
    "    prob += lpSum(daily_occupancy[j+1] - daily_occupancy[j]) <= thrs\n",
    "    \n",
    "for i in range(n_families):\n",
    "    prob += family_presence[i] == 1\n",
    "\n",
    "for j in range(days):\n",
    "    prob += daily_occupancy[j] >= MIN_OCCUPANCY\n",
    "    prob += daily_occupancy[j] <= MAX_OCCUPANCY"
   ]
  },
  {
   "cell_type": "code",
   "execution_count": 9,
   "metadata": {},
   "outputs": [
    {
     "name": "stdout",
     "output_type": "stream",
     "text": [
      "Status Optimal\n",
      "Z = 117354.58602520998\n"
     ]
    }
   ],
   "source": [
    "prob.solve()\n",
    "print('Status', LpStatus[prob.status])\n",
    "print('Z = {}'.format(value(prob.objective)))"
   ]
  },
  {
   "cell_type": "code",
   "execution_count": 10,
   "metadata": {},
   "outputs": [
    {
     "name": "stdout",
     "output_type": "stream",
     "text": [
      "6086\n",
      "84 unassigned families\n"
     ]
    }
   ],
   "source": [
    "tmp = [(i, j, x[i, j].value()) for i in range(n_families) for j in desired[i, :] if x[i, j].value() > 0]\n",
    "df = pd.DataFrame(tmp, columns=['family_id', 'day', 'n'])\n",
    "print(len(df))\n",
    "\n",
    "THRS = 0.999\n",
    "assigned_df   = df[df.n > THRS].copy()\n",
    "unassigned_df = df[(df.n <= THRS) & (df.n > 1-THRS)]\n",
    "unassigned = unassigned_df.family_id.unique()\n",
    "print('{} unassigned families'.format(len(unassigned)))"
   ]
  },
  {
   "cell_type": "code",
   "execution_count": 11,
   "metadata": {},
   "outputs": [
    {
     "name": "stdout",
     "output_type": "stream",
     "text": [
      "[0 0 0 0 0 0 0 0 0 0 0 0 0 0 0 0 0 0 0 0 0 0 0 0 0 0 0 0 0 0 0 0 0 0 0 0 0\n",
      " 0 0 0 0 0 0 0 0 0 0 0 0 0 0 0 0 0 0 0 0 0 0 0 0 0 0 0 0 0 0 0 0 0 0 0 0 0\n",
      " 0 0 0 0 0 0 0 0 0 0 0 0 0 0 0 0 0 0 0 0 0 0 0 0 0 0]\n",
      "[ 15   4   3   2   3   1   4   5  16   6   6   4  14   2   2   6   0   8\n",
      "   4  12   0   6  10   2   3   7   8  13  13   8   3   8   4  12  22  22\n",
      "  10   4   3  12  16  23  20  18   1   9   8  14  19  36  17  18  12  26\n",
      "  27  35  42  50  68  63  82  79  88  99  89  84  74  85  89  95 105 108\n",
      " 100  95 103 113 119 124 119 110 100 100 103 115 121 115 106  99 107 112\n",
      " 120 136 121 114 123 129 138 145 152 160]\n"
     ]
    }
   ],
   "source": [
    "assigned_df['family_size'] = family_sizes[assigned_df.family_id]\n",
    "occupancy = assigned_df.groupby('day').family_size.sum().values\n",
    "min_occupancy = np.array([max(0, MIN_OCCUPANCY-o) for o in occupancy])\n",
    "max_occupancy = np.array([MAX_OCCUPANCY - o for o in occupancy])\n",
    "print(min_occupancy)\n",
    "print(max_occupancy)"
   ]
  },
  {
   "cell_type": "code",
   "execution_count": 12,
   "metadata": {},
   "outputs": [],
   "source": [
    "n_families = len(unassigned)\n",
    "indexs = []\n",
    "candidates = [[] for _ in range(days)]\n",
    "\n",
    "for i in unassigned:\n",
    "    for j in desired[i, :]:\n",
    "        candidates[j].append(i)\n",
    "        indexs.append((i, j))\n",
    "        \n",
    "prob = LpProblem('Santa', LpMinimize)\n",
    "\n",
    "x = LpVariable.dicts('x', indexs, lowBound=0, cat='Binary')\n",
    "\n",
    "daily_occupancy = [lpSum([x[i, j] * family_sizes[i] for i in candidates[j]]) for j in range(days)]\n",
    "family_presence = [lpSum([x[i, j] for j in desired[i, :]]) for i in unassigned]\n",
    "\n",
    "# Objective\n",
    "prob += lpSum([preference_matrix[i, j] * x[i, j] for i in unassigned for j in desired[i, :]])\n",
    "\n",
    "# Constraints    \n",
    "for i in range(n_families):\n",
    "    prob += family_presence[i] == 1\n",
    "\n",
    "for j in range(days):\n",
    "    prob += daily_occupancy[j] >= min_occupancy[j]\n",
    "    prob += daily_occupancy[j] <= max_occupancy[j]"
   ]
  },
  {
   "cell_type": "code",
   "execution_count": 13,
   "metadata": {},
   "outputs": [
    {
     "name": "stdout",
     "output_type": "stream",
     "text": [
      "Status Optimal\n",
      "Z = 2475.0\n"
     ]
    }
   ],
   "source": [
    "prob.solve()\n",
    "print('Status', LpStatus[prob.status])\n",
    "print('Z = {}'.format(value(prob.objective)))"
   ]
  },
  {
   "cell_type": "code",
   "execution_count": 14,
   "metadata": {},
   "outputs": [
    {
     "name": "stdout",
     "output_type": "stream",
     "text": [
      "84\n"
     ]
    }
   ],
   "source": [
    "tmp = [(i, j) for i in unassigned for j in desired[i, :] if x[i, j].value() > 0]\n",
    "df = pd.DataFrame(tmp, columns=['family_id', 'day'])\n",
    "print(len(df))"
   ]
  },
  {
   "cell_type": "code",
   "execution_count": 15,
   "metadata": {},
   "outputs": [
    {
     "data": {
      "text/plain": [
       "5916"
      ]
     },
     "execution_count": 15,
     "metadata": {},
     "output_type": "execute_result"
    }
   ],
   "source": [
    "len(assigned_df)"
   ]
  },
  {
   "cell_type": "code",
   "execution_count": 16,
   "metadata": {},
   "outputs": [
    {
     "name": "stdout",
     "output_type": "stream",
     "text": [
      "6000\n"
     ]
    }
   ],
   "source": [
    "df = pd.concat((assigned_df[['family_id', 'day']], df)).sort_values('family_id')\n",
    "print(len(df))"
   ]
  },
  {
   "cell_type": "code",
   "execution_count": 17,
   "metadata": {},
   "outputs": [],
   "source": [
    "from numba import njit\n",
    "\n",
    "\n",
    "@njit(fastmath=True)\n",
    "def preference_cost(prediction, days=100):\n",
    "    daily_occupancy = np.zeros(days, dtype=np.int64)\n",
    "    penalty = 0\n",
    "    for (i, p) in enumerate(prediction):\n",
    "        n = family_sizes[i]\n",
    "        penalty += preference_matrix[i, p]\n",
    "        daily_occupancy[p] += n\n",
    "        \n",
    "    return penalty, daily_occupancy\n",
    "\n",
    "@njit(fastmath=True)\n",
    "def accounting_penalty(daily_occupancy, days=100):\n",
    "    do = np.zeros(days+5, dtype=np.int64)\n",
    "    do[:days] = daily_occupancy\n",
    "    do[days:] = do[days-1]\n",
    "    accounting_cost = 0\n",
    "    n_out_of_range = 0\n",
    "    for day in range(days):\n",
    "        for j in range(1, 6):\n",
    "            n_pj = do[day + j]\n",
    "            n    = do[day]\n",
    "            n_out_of_range += (n > MAX_OCCUPANCY) or (n < MIN_OCCUPANCY)\n",
    "            accounting_cost += accounting_matrix[n, n_pj, j]\n",
    "            \n",
    "    return accounting_cost, n_out_of_range\n",
    "\n",
    "@njit(fastmath=True)\n",
    "def cost_function(prediction):\n",
    "    penalty, daily_occupancy = preference_cost(prediction)\n",
    "    accounting_cost, n_out_of_range = accounting_penalty(daily_occupancy)\n",
    "    return penalty + accounting_cost + n_out_of_range * 100000000"
   ]
  },
  {
   "cell_type": "code",
   "execution_count": 18,
   "metadata": {},
   "outputs": [
    {
     "name": "stdout",
     "output_type": "stream",
     "text": [
      "115642, 3718.74, (140, 300)\n"
     ]
    }
   ],
   "source": [
    "pc, occ = preference_cost(df.day.values)\n",
    "ac, oor = accounting_penalty(occ)\n",
    "print('{}, {:.2f}, ({}, {})'.format(pc, ac, occ.min(), occ.max()))"
   ]
  },
  {
   "cell_type": "code",
   "execution_count": 19,
   "metadata": {},
   "outputs": [
    {
     "name": "stdout",
     "output_type": "stream",
     "text": [
      "116457.38398817397\n"
     ]
    }
   ],
   "source": [
    "def findBetterDay4Family(pred):\n",
    "    fobs = np.argsort(family_sizes)\n",
    "    score = cost_function(pred)\n",
    "    original_score = np.inf\n",
    "    \n",
    "    while original_score > score:\n",
    "        original_score = score\n",
    "        for family_id in fobs:\n",
    "            for pick in range(10):\n",
    "                day = desired[family_id, pick]\n",
    "                oldvalue = pred[family_id]\n",
    "                pred[family_id] = day\n",
    "                new_score = cost_function(pred)\n",
    "                if new_score < score:\n",
    "                    score = new_score\n",
    "                else:\n",
    "                    pred[family_id] = oldvalue\n",
    "\n",
    "        print(score, end='\\r')\n",
    "    print(score)\n",
    "\n",
    "new = df.day.values.copy()\n",
    "findBetterDay4Family(new) "
   ]
  },
  {
   "cell_type": "code",
   "execution_count": 20,
   "metadata": {},
   "outputs": [],
   "source": [
    "def stochastic_product_search(top_k, fam_size, original, \n",
    "                              verbose=1000, verbose2=50000,\n",
    "                              n_iter=3000, random_state=42):\n",
    "    \"\"\"\n",
    "    original (np.array): The original day assignments.\n",
    "    \n",
    "    At every iterations, randomly sample fam_size families. Then, given their top_k\n",
    "    choices, compute the Cartesian product of the families' choices, and compute the\n",
    "    score for each of those top_k^fam_size products.\n",
    "    \"\"\"\n",
    "    \n",
    "    best = original.copy()\n",
    "    best_score = cost_function(best)\n",
    "    \n",
    "    np.random.seed(random_state)\n",
    "\n",
    "    for i in range(n_iter):\n",
    "        fam_indices = np.random.choice(range(desired.shape[0]), size=fam_size)\n",
    "        changes = np.array(list(product(*desired[fam_indices, :top_k].tolist())))\n",
    "\n",
    "        for change in changes:\n",
    "            new = best.copy()\n",
    "            new[fam_indices] = change\n",
    "\n",
    "            new_score = cost_function(new)\n",
    "\n",
    "            if new_score < best_score:\n",
    "                best_score = new_score\n",
    "                best = new\n",
    "                \n",
    "        if verbose and i % verbose == 0:\n",
    "            print(f\"Iteration #{i}: Best score is {best_score:.2f}      \", end='\\r')\n",
    "            \n",
    "        if verbose2 and i % verbose2 == 0:\n",
    "            print(f\"Iteration #{i}: Best score is {best_score:.2f}      \")\n",
    "    \n",
    "    print(f\"Final best score is {best_score:.2f}\")\n",
    "    return best"
   ]
  },
  {
   "cell_type": "code",
   "execution_count": 21,
   "metadata": {},
   "outputs": [
    {
     "name": "stdout",
     "output_type": "stream",
     "text": [
      "116457.38398817397\n"
     ]
    }
   ],
   "source": [
    "MAX_OCCUPANCY = 300\n",
    "MIN_OCCUPANCY = 125\n",
    "\n",
    "findBetterDay4Family(new) "
   ]
  },
  {
   "cell_type": "code",
   "execution_count": 22,
   "metadata": {},
   "outputs": [
    {
     "name": "stdout",
     "output_type": "stream",
     "text": [
      "Iteration #0: Best score is 116457.38      \n",
      "Final best score is 116197.69\n"
     ]
    }
   ],
   "source": [
    "final = stochastic_product_search(\n",
    "    top_k=3,\n",
    "    fam_size=8, \n",
    "    original=new, \n",
    "    n_iter=15000,\n",
    "    verbose=1000,\n",
    "    verbose2=50000,\n",
    "    random_state=42\n",
    ")"
   ]
  },
  {
   "cell_type": "code",
   "execution_count": 23,
   "metadata": {},
   "outputs": [],
   "source": [
    "def seed_finding(seed, prediction_input):\n",
    "    prediction = prediction_input.copy()\n",
    "    np.random.seed(seed)\n",
    "    best_score = cost_function(prediction)\n",
    "    original_score = best_score\n",
    "    best_pred = prediction.copy()\n",
    "    print(\"SEED: {}   ORIGINAL SCORE: {}\".format(seed, original_score))\n",
    "    for t in range(100):\n",
    "        for i in range(5000):\n",
    "            for j in range(10):\n",
    "                di = prediction[i]\n",
    "                prediction[i] = desired[i, j]\n",
    "                cur_score = cost_function(prediction)\n",
    "\n",
    "                KT = 1\n",
    "                if t < 5:\n",
    "                    KT = 1.5\n",
    "                    \n",
    "                elif t < 10:\n",
    "                    KT = 4.5\n",
    "                else:\n",
    "                    if cur_score > best_score + 100:\n",
    "                        KT = 3\n",
    "                        \n",
    "                    elif cur_score > best_score + 50 :\n",
    "                        KT = 2.75\n",
    "                        \n",
    "                    elif cur_score > best_score + 20:\n",
    "                        KT = 2.5\n",
    "                        \n",
    "                    elif cur_score > best_score + 10:\n",
    "                        KT = 2\n",
    "                        \n",
    "                    elif cur_score > best_score:\n",
    "                        KT = 1.5\n",
    "                    else:\n",
    "                        KT = 1\n",
    "\n",
    "                prob = np.exp(-(cur_score - best_score) / KT)\n",
    "                if np.random.rand() < prob:\n",
    "                    best_score = cur_score\n",
    "                else:\n",
    "                    prediction[i] = di\n",
    "                    \n",
    "        if best_score < original_score:\n",
    "            print(\"NEW BEST SCORE on seed {}: {}\".format(seed, best_score))\n",
    "            original_score = best_score\n",
    "            best_pred = prediction.copy()\n",
    "\n",
    "    return best_pred"
   ]
  },
  {
   "cell_type": "code",
   "execution_count": 24,
   "metadata": {},
   "outputs": [
    {
     "name": "stdout",
     "output_type": "stream",
     "text": [
      "SEED: 42   ORIGINAL SCORE: 116197.68647634466\n",
      "NEW BEST SCORE on seed 42: 116191.26586966851\n",
      "NEW BEST SCORE on seed 42: 116185.9101916494\n",
      "NEW BEST SCORE on seed 42: 116182.39782913805\n",
      "NEW BEST SCORE on seed 42: 116157.15896635197\n",
      "NEW BEST SCORE on seed 42: 116152.2458372156\n",
      "NEW BEST SCORE on seed 42: 116117.24519900486\n",
      "NEW BEST SCORE on seed 42: 116116.49116974801\n",
      "NEW BEST SCORE on seed 42: 116101.8212690173\n",
      "NEW BEST SCORE on seed 42: 116100.71676887688\n",
      "NEW BEST SCORE on seed 42: 116099.64282624779\n",
      "NEW BEST SCORE on seed 42: 116097.83061715661\n",
      "NEW BEST SCORE on seed 42: 116097.10522520663\n",
      "NEW BEST SCORE on seed 42: 116077.5385013484\n",
      "NEW BEST SCORE on seed 42: 116060.12635929494\n",
      "NEW BEST SCORE on seed 42: 116058.36900130585\n",
      "NEW BEST SCORE on seed 42: 116057.75247448357\n",
      "NEW BEST SCORE on seed 42: 116053.65218973954\n",
      "NEW BEST SCORE on seed 42: 116052.00650466491\n",
      "NEW BEST SCORE on seed 42: 116050.71610870633\n",
      "NEW BEST SCORE on seed 42: 116049.10836266688\n"
     ]
    }
   ],
   "source": [
    "final = seed_finding(42, final)"
   ]
  },
  {
   "cell_type": "code",
   "execution_count": 25,
   "metadata": {},
   "outputs": [],
   "source": [
    "submission['assigned_day'] = final + 1\n",
    "submission.to_csv('submission.csv')"
   ]
  },
  {
   "cell_type": "code",
   "execution_count": null,
   "metadata": {},
   "outputs": [],
   "source": []
  }
 ],
 "metadata": {
  "kernelspec": {
   "display_name": "Python 3",
   "language": "python",
   "name": "python3"
  },
  "language_info": {
   "codemirror_mode": {
    "name": "ipython",
    "version": 3
   },
   "file_extension": ".py",
   "mimetype": "text/x-python",
   "name": "python",
   "nbconvert_exporter": "python",
   "pygments_lexer": "ipython3",
   "version": "3.7.6"
  }
 },
 "nbformat": 4,
 "nbformat_minor": 4
}
