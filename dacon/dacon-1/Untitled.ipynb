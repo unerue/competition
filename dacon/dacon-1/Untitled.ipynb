{
 "cells": [
  {
   "cell_type": "code",
   "execution_count": 17,
   "metadata": {},
   "outputs": [],
   "source": [
    "import os\n",
    "import logging\n",
    "import pandas as pd\n",
    "import numpy as np\n",
    "import lightgbm as lgb\n",
    "from models.data_loader import data_loader, data_loader_all\n",
    "from sklearn.model_selection import StratifiedKFold\n",
    "from sklearn.metrics import log_loss"
   ]
  },
  {
   "cell_type": "code",
   "execution_count": 18,
   "metadata": {},
   "outputs": [
    {
     "data": {
      "text/html": [
       "<div>\n",
       "<style scoped>\n",
       "    .dataframe tbody tr th:only-of-type {\n",
       "        vertical-align: middle;\n",
       "    }\n",
       "\n",
       "    .dataframe tbody tr th {\n",
       "        vertical-align: top;\n",
       "    }\n",
       "\n",
       "    .dataframe thead th {\n",
       "        text-align: right;\n",
       "    }\n",
       "</style>\n",
       "<table border=\"1\" class=\"dataframe\">\n",
       "  <thead>\n",
       "    <tr style=\"text-align: right;\">\n",
       "      <th></th>\n",
       "      <th>time</th>\n",
       "      <th>V0000</th>\n",
       "      <th>V0001</th>\n",
       "      <th>V0002</th>\n",
       "      <th>V0003</th>\n",
       "      <th>V0004</th>\n",
       "      <th>V0005</th>\n",
       "      <th>V0006</th>\n",
       "      <th>V0007</th>\n",
       "      <th>V0008</th>\n",
       "      <th>...</th>\n",
       "      <th>V5111</th>\n",
       "      <th>V5112</th>\n",
       "      <th>V5113</th>\n",
       "      <th>V5114</th>\n",
       "      <th>V5115</th>\n",
       "      <th>V5116</th>\n",
       "      <th>V5117</th>\n",
       "      <th>V5118</th>\n",
       "      <th>V5119</th>\n",
       "      <th>V5120</th>\n",
       "    </tr>\n",
       "  </thead>\n",
       "  <tbody>\n",
       "    <tr>\n",
       "      <th>0</th>\n",
       "      <td>0</td>\n",
       "      <td>30.486806</td>\n",
       "      <td>8.682230</td>\n",
       "      <td>8.736399</td>\n",
       "      <td>8.691251</td>\n",
       "      <td>8.711798</td>\n",
       "      <td>204.576461</td>\n",
       "      <td>201.196818</td>\n",
       "      <td>-1.213967e-19</td>\n",
       "      <td>0.0</td>\n",
       "      <td>...</td>\n",
       "      <td>1.0</td>\n",
       "      <td>1.0</td>\n",
       "      <td>1.0</td>\n",
       "      <td>1.0</td>\n",
       "      <td>60.0</td>\n",
       "      <td>127.58</td>\n",
       "      <td>112.263</td>\n",
       "      <td>-2.647025e-01</td>\n",
       "      <td>85.4</td>\n",
       "      <td>-0.004474</td>\n",
       "    </tr>\n",
       "    <tr>\n",
       "      <th>1</th>\n",
       "      <td>1</td>\n",
       "      <td>30.460030</td>\n",
       "      <td>8.784153</td>\n",
       "      <td>8.691244</td>\n",
       "      <td>8.706254</td>\n",
       "      <td>8.716143</td>\n",
       "      <td>194.222395</td>\n",
       "      <td>169.979333</td>\n",
       "      <td>-2.279681e-19</td>\n",
       "      <td>0.0</td>\n",
       "      <td>...</td>\n",
       "      <td>1.0</td>\n",
       "      <td>1.0</td>\n",
       "      <td>1.0</td>\n",
       "      <td>1.0</td>\n",
       "      <td>60.0</td>\n",
       "      <td>0.00</td>\n",
       "      <td>0.000</td>\n",
       "      <td>1.449708e-05</td>\n",
       "      <td>85.4</td>\n",
       "      <td>0.000000</td>\n",
       "    </tr>\n",
       "    <tr>\n",
       "      <th>2</th>\n",
       "      <td>2</td>\n",
       "      <td>30.475103</td>\n",
       "      <td>8.812022</td>\n",
       "      <td>8.697733</td>\n",
       "      <td>8.721917</td>\n",
       "      <td>8.681361</td>\n",
       "      <td>193.078139</td>\n",
       "      <td>160.719360</td>\n",
       "      <td>-1.586760e-19</td>\n",
       "      <td>0.0</td>\n",
       "      <td>...</td>\n",
       "      <td>1.0</td>\n",
       "      <td>1.0</td>\n",
       "      <td>1.0</td>\n",
       "      <td>1.0</td>\n",
       "      <td>60.0</td>\n",
       "      <td>0.00</td>\n",
       "      <td>0.000</td>\n",
       "      <td>-1.297699e-05</td>\n",
       "      <td>85.4</td>\n",
       "      <td>0.000000</td>\n",
       "    </tr>\n",
       "    <tr>\n",
       "      <th>3</th>\n",
       "      <td>3</td>\n",
       "      <td>30.455413</td>\n",
       "      <td>8.908323</td>\n",
       "      <td>8.712004</td>\n",
       "      <td>8.723829</td>\n",
       "      <td>8.724655</td>\n",
       "      <td>207.644178</td>\n",
       "      <td>232.675873</td>\n",
       "      <td>-4.016423e-19</td>\n",
       "      <td>0.0</td>\n",
       "      <td>...</td>\n",
       "      <td>1.0</td>\n",
       "      <td>1.0</td>\n",
       "      <td>1.0</td>\n",
       "      <td>1.0</td>\n",
       "      <td>60.0</td>\n",
       "      <td>0.00</td>\n",
       "      <td>0.000</td>\n",
       "      <td>1.920643e-05</td>\n",
       "      <td>85.4</td>\n",
       "      <td>0.000000</td>\n",
       "    </tr>\n",
       "    <tr>\n",
       "      <th>4</th>\n",
       "      <td>4</td>\n",
       "      <td>30.472642</td>\n",
       "      <td>8.815620</td>\n",
       "      <td>8.702882</td>\n",
       "      <td>8.722939</td>\n",
       "      <td>8.702341</td>\n",
       "      <td>186.112451</td>\n",
       "      <td>160.829340</td>\n",
       "      <td>8.676680e-19</td>\n",
       "      <td>0.0</td>\n",
       "      <td>...</td>\n",
       "      <td>1.0</td>\n",
       "      <td>1.0</td>\n",
       "      <td>1.0</td>\n",
       "      <td>1.0</td>\n",
       "      <td>60.0</td>\n",
       "      <td>0.00</td>\n",
       "      <td>0.000</td>\n",
       "      <td>-8.471766e-06</td>\n",
       "      <td>85.4</td>\n",
       "      <td>0.000000</td>\n",
       "    </tr>\n",
       "    <tr>\n",
       "      <th>5</th>\n",
       "      <td>5</td>\n",
       "      <td>30.479996</td>\n",
       "      <td>8.785063</td>\n",
       "      <td>8.724755</td>\n",
       "      <td>8.706315</td>\n",
       "      <td>8.679515</td>\n",
       "      <td>179.695790</td>\n",
       "      <td>185.416531</td>\n",
       "      <td>3.727744e-19</td>\n",
       "      <td>0.0</td>\n",
       "      <td>...</td>\n",
       "      <td>1.0</td>\n",
       "      <td>1.0</td>\n",
       "      <td>1.0</td>\n",
       "      <td>1.0</td>\n",
       "      <td>60.0</td>\n",
       "      <td>0.00</td>\n",
       "      <td>0.000</td>\n",
       "      <td>-6.392587e-07</td>\n",
       "      <td>85.4</td>\n",
       "      <td>0.000000</td>\n",
       "    </tr>\n",
       "    <tr>\n",
       "      <th>6</th>\n",
       "      <td>6</td>\n",
       "      <td>30.453275</td>\n",
       "      <td>8.750956</td>\n",
       "      <td>8.694296</td>\n",
       "      <td>8.741906</td>\n",
       "      <td>8.732474</td>\n",
       "      <td>181.768368</td>\n",
       "      <td>221.457188</td>\n",
       "      <td>-1.592450e-20</td>\n",
       "      <td>0.0</td>\n",
       "      <td>...</td>\n",
       "      <td>1.0</td>\n",
       "      <td>1.0</td>\n",
       "      <td>1.0</td>\n",
       "      <td>1.0</td>\n",
       "      <td>60.0</td>\n",
       "      <td>0.00</td>\n",
       "      <td>0.000</td>\n",
       "      <td>3.142552e-05</td>\n",
       "      <td>85.4</td>\n",
       "      <td>0.000000</td>\n",
       "    </tr>\n",
       "    <tr>\n",
       "      <th>7</th>\n",
       "      <td>7</td>\n",
       "      <td>30.471123</td>\n",
       "      <td>8.719291</td>\n",
       "      <td>8.662265</td>\n",
       "      <td>8.767139</td>\n",
       "      <td>8.718461</td>\n",
       "      <td>196.023732</td>\n",
       "      <td>158.825020</td>\n",
       "      <td>4.217813e-19</td>\n",
       "      <td>0.0</td>\n",
       "      <td>...</td>\n",
       "      <td>1.0</td>\n",
       "      <td>1.0</td>\n",
       "      <td>1.0</td>\n",
       "      <td>1.0</td>\n",
       "      <td>60.0</td>\n",
       "      <td>0.00</td>\n",
       "      <td>0.000</td>\n",
       "      <td>-4.905278e-06</td>\n",
       "      <td>85.4</td>\n",
       "      <td>0.000000</td>\n",
       "    </tr>\n",
       "    <tr>\n",
       "      <th>8</th>\n",
       "      <td>8</td>\n",
       "      <td>30.474419</td>\n",
       "      <td>8.780911</td>\n",
       "      <td>8.722811</td>\n",
       "      <td>8.707110</td>\n",
       "      <td>8.725835</td>\n",
       "      <td>203.839786</td>\n",
       "      <td>203.675179</td>\n",
       "      <td>-2.358491e-20</td>\n",
       "      <td>0.0</td>\n",
       "      <td>...</td>\n",
       "      <td>1.0</td>\n",
       "      <td>1.0</td>\n",
       "      <td>1.0</td>\n",
       "      <td>1.0</td>\n",
       "      <td>60.0</td>\n",
       "      <td>0.00</td>\n",
       "      <td>0.000</td>\n",
       "      <td>1.097287e-05</td>\n",
       "      <td>85.4</td>\n",
       "      <td>0.000000</td>\n",
       "    </tr>\n",
       "    <tr>\n",
       "      <th>9</th>\n",
       "      <td>9</td>\n",
       "      <td>30.480129</td>\n",
       "      <td>8.770054</td>\n",
       "      <td>8.683935</td>\n",
       "      <td>8.755444</td>\n",
       "      <td>8.722334</td>\n",
       "      <td>194.606116</td>\n",
       "      <td>210.825506</td>\n",
       "      <td>-9.246151e-20</td>\n",
       "      <td>0.0</td>\n",
       "      <td>...</td>\n",
       "      <td>1.0</td>\n",
       "      <td>1.0</td>\n",
       "      <td>1.0</td>\n",
       "      <td>1.0</td>\n",
       "      <td>60.0</td>\n",
       "      <td>0.00</td>\n",
       "      <td>0.000</td>\n",
       "      <td>-1.293516e-05</td>\n",
       "      <td>85.4</td>\n",
       "      <td>0.000000</td>\n",
       "    </tr>\n",
       "  </tbody>\n",
       "</table>\n",
       "<p>10 rows × 5122 columns</p>\n",
       "</div>"
      ],
      "text/plain": [
       "   time      V0000     V0001     V0002     V0003     V0004       V0005  \\\n",
       "0     0  30.486806  8.682230  8.736399  8.691251  8.711798  204.576461   \n",
       "1     1  30.460030  8.784153  8.691244  8.706254  8.716143  194.222395   \n",
       "2     2  30.475103  8.812022  8.697733  8.721917  8.681361  193.078139   \n",
       "3     3  30.455413  8.908323  8.712004  8.723829  8.724655  207.644178   \n",
       "4     4  30.472642  8.815620  8.702882  8.722939  8.702341  186.112451   \n",
       "5     5  30.479996  8.785063  8.724755  8.706315  8.679515  179.695790   \n",
       "6     6  30.453275  8.750956  8.694296  8.741906  8.732474  181.768368   \n",
       "7     7  30.471123  8.719291  8.662265  8.767139  8.718461  196.023732   \n",
       "8     8  30.474419  8.780911  8.722811  8.707110  8.725835  203.839786   \n",
       "9     9  30.480129  8.770054  8.683935  8.755444  8.722334  194.606116   \n",
       "\n",
       "        V0006         V0007  V0008  ...  V5111  V5112  V5113  V5114  V5115  \\\n",
       "0  201.196818 -1.213967e-19    0.0  ...    1.0    1.0    1.0    1.0   60.0   \n",
       "1  169.979333 -2.279681e-19    0.0  ...    1.0    1.0    1.0    1.0   60.0   \n",
       "2  160.719360 -1.586760e-19    0.0  ...    1.0    1.0    1.0    1.0   60.0   \n",
       "3  232.675873 -4.016423e-19    0.0  ...    1.0    1.0    1.0    1.0   60.0   \n",
       "4  160.829340  8.676680e-19    0.0  ...    1.0    1.0    1.0    1.0   60.0   \n",
       "5  185.416531  3.727744e-19    0.0  ...    1.0    1.0    1.0    1.0   60.0   \n",
       "6  221.457188 -1.592450e-20    0.0  ...    1.0    1.0    1.0    1.0   60.0   \n",
       "7  158.825020  4.217813e-19    0.0  ...    1.0    1.0    1.0    1.0   60.0   \n",
       "8  203.675179 -2.358491e-20    0.0  ...    1.0    1.0    1.0    1.0   60.0   \n",
       "9  210.825506 -9.246151e-20    0.0  ...    1.0    1.0    1.0    1.0   60.0   \n",
       "\n",
       "    V5116    V5117         V5118  V5119     V5120  \n",
       "0  127.58  112.263 -2.647025e-01   85.4 -0.004474  \n",
       "1    0.00    0.000  1.449708e-05   85.4  0.000000  \n",
       "2    0.00    0.000 -1.297699e-05   85.4  0.000000  \n",
       "3    0.00    0.000  1.920643e-05   85.4  0.000000  \n",
       "4    0.00    0.000 -8.471766e-06   85.4  0.000000  \n",
       "5    0.00    0.000 -6.392587e-07   85.4  0.000000  \n",
       "6    0.00    0.000  3.142552e-05   85.4  0.000000  \n",
       "7    0.00    0.000 -4.905278e-06   85.4  0.000000  \n",
       "8    0.00    0.000  1.097287e-05   85.4  0.000000  \n",
       "9    0.00    0.000 -1.293516e-05   85.4  0.000000  \n",
       "\n",
       "[10 rows x 5122 columns]"
      ]
     },
     "execution_count": 18,
     "metadata": {},
     "output_type": "execute_result"
    }
   ],
   "source": [
    "df = pd.read_csv('input/train/0.csv')\n",
    "df.head(10)"
   ]
  },
  {
   "cell_type": "code",
   "execution_count": 21,
   "metadata": {},
   "outputs": [
    {
     "name": "stdout",
     "output_type": "stream",
     "text": [
      "100%|█████████████████████████████████████████| 100/100 [00:06<00:00, 14.97it/s]\n",
      "100%|█████████████████████████████████████████| 100/100 [00:06<00:00, 15.49it/s]\n",
      "(10000, 5124) (6000, 5123)\n",
      "1 fold\n",
      "[   0    5    6 ... 9997 9998 9999]\n",
      "slicing\n",
      "making dataset 1\n",
      "Traceback (most recent call last):\n",
      "  File \"test.py\", line 97, in <module>\n",
      "    early_stopping_rounds=10)\n",
      "  File \"/home/unerue/anaconda3/envs/kaggle/lib/python3.7/site-packages/lightgbm/engine.py\", line 228, in train\n",
      "    booster = Booster(params=params, train_set=train_set)\n",
      "  File \"/home/unerue/anaconda3/envs/kaggle/lib/python3.7/site-packages/lightgbm/basic.py\", line 1722, in __init__\n",
      "    train_set.construct().handle,\n",
      "  File \"/home/unerue/anaconda3/envs/kaggle/lib/python3.7/site-packages/lightgbm/basic.py\", line 1087, in construct\n",
      "    categorical_feature=self.categorical_feature, params=self.params)\n",
      "  File \"/home/unerue/anaconda3/envs/kaggle/lib/python3.7/site-packages/lightgbm/basic.py\", line 889, in _lazy_init\n",
      "    self.__init_from_np2d(data, params_str, ref_dataset)\n",
      "  File \"/home/unerue/anaconda3/envs/kaggle/lib/python3.7/site-packages/lightgbm/basic.py\", line 928, in __init_from_np2d\n",
      "    data = np.array(mat.reshape(mat.size), dtype=np.float32)\n",
      "ValueError: could not convert string to float: 'Equip Fail'\n"
     ]
    }
   ],
   "source": [
    "!python test.py -col 'V1150' 'np.mean' "
   ]
  },
  {
   "cell_type": "code",
   "execution_count": null,
   "metadata": {},
   "outputs": [],
   "source": []
  },
  {
   "cell_type": "code",
   "execution_count": 3,
   "metadata": {},
   "outputs": [
    {
     "name": "stderr",
     "output_type": "stream",
     "text": [
      "100%|██████████| 828/828 [00:57<00:00, 14.28it/s]\n",
      "100%|██████████| 720/720 [00:47<00:00, 15.02it/s]\n"
     ]
    },
    {
     "name": "stdout",
     "output_type": "stream",
     "text": [
      "(82800, 5124) (43200, 5123)\n"
     ]
    }
   ],
   "source": [
    "train_path = 'input/train'\n",
    "test_path = 'input/test'\n",
    "label = pd.read_csv('input/train_label.csv')\n",
    "sub = pd.read_csv('input/sample_submission.csv')\n",
    "\n",
    "train = data_loader_all(data_loader, \n",
    "                        path=train_path, \n",
    "                        train=True, \n",
    "                        nrows=100, # 600\n",
    "                        normal=999, \n",
    "                        event_time=10, \n",
    "                        lookup_table=label)\n",
    "\n",
    "test = data_loader_all(data_loader, \n",
    "                       path=test_path, \n",
    "                       train=False, \n",
    "                       nrows=60)\n",
    "\n",
    "print(train.shape, test.shape)"
   ]
  },
  {
   "cell_type": "code",
   "execution_count": null,
   "metadata": {},
   "outputs": [],
   "source": []
  },
  {
   "cell_type": "code",
   "execution_count": null,
   "metadata": {},
   "outputs": [],
   "source": []
  },
  {
   "cell_type": "code",
   "execution_count": null,
   "metadata": {},
   "outputs": [],
   "source": []
  },
  {
   "cell_type": "code",
   "execution_count": null,
   "metadata": {},
   "outputs": [],
   "source": [
    "# train.info()"
   ]
  },
  {
   "cell_type": "code",
   "execution_count": null,
   "metadata": {},
   "outputs": [],
   "source": [
    "# train.to_pickle('train.pkl')\n",
    "# # test.to_pickle('test.pkl')"
   ]
  },
  {
   "cell_type": "code",
   "execution_count": 4,
   "metadata": {},
   "outputs": [
    {
     "name": "stdout",
     "output_type": "stream",
     "text": [
      "['V0019', 'V0020', 'V0021', 'V0022', 'V0023'] 1026\n"
     ]
    }
   ],
   "source": [
    "object_columns = train.select_dtypes(include=['object']).columns.tolist()\n",
    "print(object_columns[:5], len(object_columns))"
   ]
  },
  {
   "cell_type": "code",
   "execution_count": 5,
   "metadata": {},
   "outputs": [],
   "source": [
    "train = train.fillna(0)\n",
    "test = test.fillna(0)"
   ]
  },
  {
   "cell_type": "code",
   "execution_count": null,
   "metadata": {},
   "outputs": [],
   "source": [
    "# train[object_columns] = train[object_columns].replace(\n",
    "#     ['Equip Fail', 'Bad', 'OFF'], -1)"
   ]
  },
  {
   "cell_type": "code",
   "execution_count": null,
   "metadata": {},
   "outputs": [],
   "source": [
    "# for col in object_columns:\n",
    "#     train[col] = train[col].astype(np.float64)"
   ]
  },
  {
   "cell_type": "code",
   "execution_count": 6,
   "metadata": {},
   "outputs": [
    {
     "data": {
      "text/plain": [
       "array([999, 132,  54, 113,  73, 128, 114,  14,  17,  84,  50,  18, 148,\n",
       "        58,  23,  38, 180, 183, 115,  69,  29,  91, 117, 112,  61, 173,\n",
       "       121, 174,  28,  55, 166, 167, 189, 118, 169,  22, 176,  27, 111,\n",
       "        19, 116,  85, 141,  66,  40,  81,  53,  87, 137, 150,  90, 100,\n",
       "       175, 165, 177, 160,  76, 127, 130, 123, 136, 162,  80,  68, 181,\n",
       "        67,  62, 120, 185, 110, 122,  32, 168, 126, 178, 104, 172,  24,\n",
       "        11, 147,  13,  26, 164, 152,   8,  21, 157, 192,  83, 146,   6,\n",
       "       143, 196, 119,  52, 106,  98, 188, 161, 133,  30, 129,  12,  75,\n",
       "         2,  82,   5,  77,   4,  88, 131,  64,  25, 107,  78, 159, 138,\n",
       "       105, 154,  89,  96,  39,  60,  10,  65,  94,  47,  63, 163, 179,\n",
       "         9, 187, 102,  97,  79, 158, 191,  70, 125,  74, 109,  71,  45,\n",
       "       193,  86, 108,  33,   3,  59,   1, 186,  99,  41,   7, 170, 103,\n",
       "        57,  56,   0, 139, 149, 140, 197, 155,  20, 124,  42,  16,  35,\n",
       "        92, 156,  46,  36, 142, 101,  37,  93, 182, 194, 134,  15,  34,\n",
       "       144,  43, 135, 184,  44, 151,  51, 153, 195,  72,  48,  31, 171,\n",
       "        49, 190,  95, 145])"
      ]
     },
     "execution_count": 6,
     "metadata": {},
     "output_type": "execute_result"
    }
   ],
   "source": [
    "train['label'].unique()"
   ]
  },
  {
   "cell_type": "code",
   "execution_count": 7,
   "metadata": {},
   "outputs": [],
   "source": [
    "labels = dict(zip(train['label'].unique().tolist(), list(range(train['label'].nunique()))))"
   ]
  },
  {
   "cell_type": "code",
   "execution_count": 8,
   "metadata": {},
   "outputs": [],
   "source": [
    "X = train.drop(['label'] + object_columns, axis=1).values\n",
    "y = train['label'].replace(labels).values\n",
    "# y = train['label'].values\n",
    "test = test.drop(object_columns, axis=1).values"
   ]
  },
  {
   "cell_type": "code",
   "execution_count": 9,
   "metadata": {},
   "outputs": [],
   "source": [
    "test = np.where(test == 'Bad', 0, test)\n",
    "test = np.where(test == 'No Data', 0, test)\n",
    "test = np.where(test == 'Configure', 0, test)\n",
    "test = np.where(test == 'OFF', 0, test)\n",
    "test = np.where(test == 'Equip Fail', 0, test)"
   ]
  },
  {
   "cell_type": "code",
   "execution_count": 10,
   "metadata": {},
   "outputs": [
    {
     "name": "stdout",
     "output_type": "stream",
     "text": [
      "199\n"
     ]
    }
   ],
   "source": [
    "n_class = train['label'].nunique()\n",
    "print(n_class)"
   ]
  },
  {
   "cell_type": "code",
   "execution_count": 11,
   "metadata": {},
   "outputs": [],
   "source": [
    "params = {\n",
    "    'boosting_type': 'gbdt',\n",
    "    'device': 'gpu',\n",
    "    'objective': 'multiclass',\n",
    "    'num_class': n_class,\n",
    "    'metric': 'multi_logloss',\n",
    "#     'learning_rate': 0.015,\n",
    "#     'num_leaves': 255,  \n",
    "    'max_depth': -1,  \n",
    "    'max_bin': 50,\n",
    "#     'min_child_samples': 100,  \n",
    "#     'max_bin': 100,  \n",
    "#     'subsample': 0.7,  \n",
    "#     'subsample_freq': 1,  \n",
    "#     'colsample_bytree': 0.7,  \n",
    "#     'min_child_weight': 0,  \n",
    "#     'subsample_for_bin': 200000,  \n",
    "#     'min_split_gain': 0,  \n",
    "#     'reg_alpha': 0,  \n",
    "#     'reg_lambda': 0,  \n",
    "   'nthread': -1,\n",
    "    'verbosity': -1,\n",
    "#     'scale_pos_weight':99 \n",
    "    }"
   ]
  },
  {
   "cell_type": "code",
   "execution_count": 12,
   "metadata": {},
   "outputs": [
    {
     "name": "stdout",
     "output_type": "stream",
     "text": [
      "Training until validation scores don't improve for 20 rounds\n",
      "Early stopping, best iteration is:\n",
      "[1]\ttraining's multi_logloss: 1.01583\tvalid_1's multi_logloss: 1.24491\n",
      "1-fold: logloss = 1.2449148761808344)\n",
      "Training until validation scores don't improve for 20 rounds\n",
      "Early stopping, best iteration is:\n",
      "[1]\ttraining's multi_logloss: 1.00215\tvalid_1's multi_logloss: 1.22793\n",
      "2-fold: logloss = 1.2279294168298491)\n",
      "Training until validation scores don't improve for 20 rounds\n",
      "Early stopping, best iteration is:\n",
      "[1]\ttraining's multi_logloss: 1.01934\tvalid_1's multi_logloss: 1.26454\n",
      "3-fold: logloss = 1.264542148062215)\n",
      "Training until validation scores don't improve for 20 rounds\n",
      "Early stopping, best iteration is:\n",
      "[1]\ttraining's multi_logloss: 1.01005\tvalid_1's multi_logloss: 1.30108\n",
      "4-fold: logloss = 1.301082347841828)\n",
      "Training until validation scores don't improve for 20 rounds\n",
      "Early stopping, best iteration is:\n",
      "[1]\ttraining's multi_logloss: 0.989514\tvalid_1's multi_logloss: 1.21052\n",
      "5-fold: logloss = 1.2105171498707683)\n"
     ]
    }
   ],
   "source": [
    "train_preds = np.zeros((len(X), n_class))\n",
    "test_preds = np.zeros((len(test), n_class))\n",
    "cv_score = []\n",
    "best_trees = []\n",
    "\n",
    "skf = StratifiedKFold(n_splits=5, shuffle=True, random_state=42)\n",
    "for i, (train_index, valid_index) in enumerate(skf.split(X, y)):\n",
    "    X_train_data = X[train_index]\n",
    "    X_valid_data = X[valid_index]\n",
    "    y_train_data = y[train_index]\n",
    "    y_valid_data = y[valid_index]\n",
    "    \n",
    "    dtrain = lgb.Dataset(X_train_data, y_train_data)\n",
    "    dvalid = lgb.Dataset(X_valid_data, y_valid_data)\n",
    "    \n",
    "    bst = lgb.train(params, \n",
    "                     dtrain, \n",
    "                     num_boost_round=100, \n",
    "                     valid_sets=[dtrain, dvalid], \n",
    "                     verbose_eval=100,\n",
    "                     early_stopping_rounds=20)\n",
    "    \n",
    "    best_trees.append(bst.best_iteration)\n",
    "    preds = bst.predict(X_valid_data)\n",
    "    \n",
    "    train_preds[valid_index] = preds\n",
    "    test_preds += bst.predict(test, num_iteration=bst.best_iteration) / skf.n_splits\n",
    "    \n",
    "#     clf.fit(X_train_data, y_train_data)\n",
    "    score = log_loss(y_valid_data, preds)\n",
    "    print('{}-fold: logloss = {})'.format(i+1, score))\n",
    "    \n",
    "    cv_score.append(score)\n",
    "#     train_preds[valid_index] = clf.predict_proba(X_valid_data)\n",
    "#     test_preds += clf.predict_proba(test.values) / skf.n_splits\n",
    "\n",
    "# print('\\ntrain accuracy score = {:.3}'.format(accuracy_score(y, np.argmax(train_preds, axis=1))))\n",
    "# print('train f1 score = {}'.format(f1_score(y, np.argmax(train_preds, axis=1), average=None)))"
   ]
  },
  {
   "cell_type": "code",
   "execution_count": 13,
   "metadata": {},
   "outputs": [
    {
     "data": {
      "text/plain": [
       "(16560, 199)"
      ]
     },
     "execution_count": 13,
     "metadata": {},
     "output_type": "execute_result"
    }
   ],
   "source": [
    "preds.shape"
   ]
  },
  {
   "cell_type": "code",
   "execution_count": 14,
   "metadata": {},
   "outputs": [],
   "source": [
    "reversed_labels = dict((v, k) for k, v in labels.items())"
   ]
  },
  {
   "cell_type": "code",
   "execution_count": 16,
   "metadata": {},
   "outputs": [],
   "source": [
    "# sub.iloc[:, 1:] = test_preds[:,1:]"
   ]
  },
  {
   "cell_type": "code",
   "execution_count": 17,
   "metadata": {},
   "outputs": [],
   "source": [
    "sub = pd.read_csv('input/sample_submission.csv')"
   ]
  },
  {
   "cell_type": "code",
   "execution_count": 18,
   "metadata": {},
   "outputs": [
    {
     "data": {
      "text/html": [
       "<div>\n",
       "<style scoped>\n",
       "    .dataframe tbody tr th:only-of-type {\n",
       "        vertical-align: middle;\n",
       "    }\n",
       "\n",
       "    .dataframe tbody tr th {\n",
       "        vertical-align: top;\n",
       "    }\n",
       "\n",
       "    .dataframe thead th {\n",
       "        text-align: right;\n",
       "    }\n",
       "</style>\n",
       "<table border=\"1\" class=\"dataframe\">\n",
       "  <thead>\n",
       "    <tr style=\"text-align: right;\">\n",
       "      <th></th>\n",
       "      <th>id</th>\n",
       "      <th>0</th>\n",
       "      <th>1</th>\n",
       "      <th>2</th>\n",
       "      <th>3</th>\n",
       "      <th>4</th>\n",
       "      <th>5</th>\n",
       "      <th>6</th>\n",
       "      <th>7</th>\n",
       "      <th>8</th>\n",
       "      <th>...</th>\n",
       "      <th>188</th>\n",
       "      <th>189</th>\n",
       "      <th>190</th>\n",
       "      <th>191</th>\n",
       "      <th>192</th>\n",
       "      <th>193</th>\n",
       "      <th>194</th>\n",
       "      <th>195</th>\n",
       "      <th>196</th>\n",
       "      <th>197</th>\n",
       "    </tr>\n",
       "  </thead>\n",
       "  <tbody>\n",
       "    <tr>\n",
       "      <th>0</th>\n",
       "      <td>828</td>\n",
       "      <td>0</td>\n",
       "      <td>0</td>\n",
       "      <td>0</td>\n",
       "      <td>0</td>\n",
       "      <td>0</td>\n",
       "      <td>0</td>\n",
       "      <td>0</td>\n",
       "      <td>0</td>\n",
       "      <td>0</td>\n",
       "      <td>...</td>\n",
       "      <td>0</td>\n",
       "      <td>0</td>\n",
       "      <td>0</td>\n",
       "      <td>0</td>\n",
       "      <td>0</td>\n",
       "      <td>0</td>\n",
       "      <td>0</td>\n",
       "      <td>0</td>\n",
       "      <td>0</td>\n",
       "      <td>0</td>\n",
       "    </tr>\n",
       "    <tr>\n",
       "      <th>1</th>\n",
       "      <td>829</td>\n",
       "      <td>0</td>\n",
       "      <td>0</td>\n",
       "      <td>0</td>\n",
       "      <td>0</td>\n",
       "      <td>0</td>\n",
       "      <td>0</td>\n",
       "      <td>0</td>\n",
       "      <td>0</td>\n",
       "      <td>0</td>\n",
       "      <td>...</td>\n",
       "      <td>0</td>\n",
       "      <td>0</td>\n",
       "      <td>0</td>\n",
       "      <td>0</td>\n",
       "      <td>0</td>\n",
       "      <td>0</td>\n",
       "      <td>0</td>\n",
       "      <td>0</td>\n",
       "      <td>0</td>\n",
       "      <td>0</td>\n",
       "    </tr>\n",
       "    <tr>\n",
       "      <th>2</th>\n",
       "      <td>830</td>\n",
       "      <td>0</td>\n",
       "      <td>0</td>\n",
       "      <td>0</td>\n",
       "      <td>0</td>\n",
       "      <td>0</td>\n",
       "      <td>0</td>\n",
       "      <td>0</td>\n",
       "      <td>0</td>\n",
       "      <td>0</td>\n",
       "      <td>...</td>\n",
       "      <td>0</td>\n",
       "      <td>0</td>\n",
       "      <td>0</td>\n",
       "      <td>0</td>\n",
       "      <td>0</td>\n",
       "      <td>0</td>\n",
       "      <td>0</td>\n",
       "      <td>0</td>\n",
       "      <td>0</td>\n",
       "      <td>0</td>\n",
       "    </tr>\n",
       "    <tr>\n",
       "      <th>3</th>\n",
       "      <td>831</td>\n",
       "      <td>0</td>\n",
       "      <td>0</td>\n",
       "      <td>0</td>\n",
       "      <td>0</td>\n",
       "      <td>0</td>\n",
       "      <td>0</td>\n",
       "      <td>0</td>\n",
       "      <td>0</td>\n",
       "      <td>0</td>\n",
       "      <td>...</td>\n",
       "      <td>0</td>\n",
       "      <td>0</td>\n",
       "      <td>0</td>\n",
       "      <td>0</td>\n",
       "      <td>0</td>\n",
       "      <td>0</td>\n",
       "      <td>0</td>\n",
       "      <td>0</td>\n",
       "      <td>0</td>\n",
       "      <td>0</td>\n",
       "    </tr>\n",
       "    <tr>\n",
       "      <th>4</th>\n",
       "      <td>832</td>\n",
       "      <td>0</td>\n",
       "      <td>0</td>\n",
       "      <td>0</td>\n",
       "      <td>0</td>\n",
       "      <td>0</td>\n",
       "      <td>0</td>\n",
       "      <td>0</td>\n",
       "      <td>0</td>\n",
       "      <td>0</td>\n",
       "      <td>...</td>\n",
       "      <td>0</td>\n",
       "      <td>0</td>\n",
       "      <td>0</td>\n",
       "      <td>0</td>\n",
       "      <td>0</td>\n",
       "      <td>0</td>\n",
       "      <td>0</td>\n",
       "      <td>0</td>\n",
       "      <td>0</td>\n",
       "      <td>0</td>\n",
       "    </tr>\n",
       "  </tbody>\n",
       "</table>\n",
       "<p>5 rows × 199 columns</p>\n",
       "</div>"
      ],
      "text/plain": [
       "    id  0  1  2  3  4  5  6  7  8  ...  188  189  190  191  192  193  194  \\\n",
       "0  828  0  0  0  0  0  0  0  0  0  ...    0    0    0    0    0    0    0   \n",
       "1  829  0  0  0  0  0  0  0  0  0  ...    0    0    0    0    0    0    0   \n",
       "2  830  0  0  0  0  0  0  0  0  0  ...    0    0    0    0    0    0    0   \n",
       "3  831  0  0  0  0  0  0  0  0  0  ...    0    0    0    0    0    0    0   \n",
       "4  832  0  0  0  0  0  0  0  0  0  ...    0    0    0    0    0    0    0   \n",
       "\n",
       "   195  196  197  \n",
       "0    0    0    0  \n",
       "1    0    0    0  \n",
       "2    0    0    0  \n",
       "3    0    0    0  \n",
       "4    0    0    0  \n",
       "\n",
       "[5 rows x 199 columns]"
      ]
     },
     "execution_count": 18,
     "metadata": {},
     "output_type": "execute_result"
    }
   ],
   "source": [
    "sub.head()"
   ]
  },
  {
   "cell_type": "code",
   "execution_count": 19,
   "metadata": {},
   "outputs": [
    {
     "data": {
      "text/plain": [
       "(720, 198)"
      ]
     },
     "execution_count": 19,
     "metadata": {},
     "output_type": "execute_result"
    }
   ],
   "source": [
    "sub.iloc[:, 1:].shape"
   ]
  },
  {
   "cell_type": "code",
   "execution_count": 20,
   "metadata": {},
   "outputs": [],
   "source": [
    "test_df = pd.DataFrame(test)"
   ]
  },
  {
   "cell_type": "code",
   "execution_count": 21,
   "metadata": {},
   "outputs": [],
   "source": [
    "test_df1 = test_df.iloc[:,:1]"
   ]
  },
  {
   "cell_type": "code",
   "execution_count": 22,
   "metadata": {},
   "outputs": [],
   "source": [
    "test_df1 = test_df1.rename(columns={0: 'id'})"
   ]
  },
  {
   "cell_type": "code",
   "execution_count": null,
   "metadata": {},
   "outputs": [],
   "source": [
    "# test_df1 = test_df.sort_values(by=0).iloc[:,:1]"
   ]
  },
  {
   "cell_type": "code",
   "execution_count": null,
   "metadata": {},
   "outputs": [],
   "source": [
    "# test_df1 = test_df1.reset_index(drop=True)"
   ]
  },
  {
   "cell_type": "code",
   "execution_count": 23,
   "metadata": {},
   "outputs": [],
   "source": [
    "test_pred_df = pd.DataFrame(test_preds[:,1:])"
   ]
  },
  {
   "cell_type": "code",
   "execution_count": 24,
   "metadata": {},
   "outputs": [],
   "source": [
    "sub1 = pd.concat([test_df1, test_pred_df], axis=1)"
   ]
  },
  {
   "cell_type": "code",
   "execution_count": 25,
   "metadata": {},
   "outputs": [],
   "source": [
    "sub2 = sub1.groupby(by='id').sum() / sub1.groupby(by='id').count()"
   ]
  },
  {
   "cell_type": "code",
   "execution_count": 26,
   "metadata": {},
   "outputs": [],
   "source": [
    "sub.iloc[:,1:] = sub2.values"
   ]
  },
  {
   "cell_type": "code",
   "execution_count": 27,
   "metadata": {},
   "outputs": [],
   "source": [
    "sub.to_csv('submission.csv', index=False)"
   ]
  },
  {
   "cell_type": "code",
   "execution_count": 16,
   "metadata": {},
   "outputs": [
    {
     "data": {
      "text/plain": [
       "(495, 0)"
      ]
     },
     "execution_count": 16,
     "metadata": {},
     "output_type": "execute_result"
    }
   ],
   "source": [
    "495000"
   ]
  },
  {
   "cell_type": "code",
   "execution_count": null,
   "metadata": {},
   "outputs": [],
   "source": []
  },
  {
   "cell_type": "code",
   "execution_count": null,
   "metadata": {},
   "outputs": [],
   "source": [
    "input -> preprossecing -> transform -> learning -> result 0.90"
   ]
  }
 ],
 "metadata": {
  "kernelspec": {
   "display_name": "Python 3",
   "language": "python",
   "name": "python3"
  },
  "language_info": {
   "codemirror_mode": {
    "name": "ipython",
    "version": 3
   },
   "file_extension": ".py",
   "mimetype": "text/x-python",
   "name": "python",
   "nbconvert_exporter": "python",
   "pygments_lexer": "ipython3",
   "version": "3.7.6"
  }
 },
 "nbformat": 4,
 "nbformat_minor": 4
}
