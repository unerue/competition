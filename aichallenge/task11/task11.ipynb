{
 "cells": [
  {
   "cell_type": "code",
   "execution_count": 68,
   "metadata": {
    "tags": []
   },
   "outputs": [
    {
     "output_type": "stream",
     "name": "stdout",
     "text": "1279 320\n1279 320\n1279 320\n1279 320\n1280 319\n"
    },
    {
     "output_type": "execute_result",
     "data": {
      "text/plain": "(1599, 5)"
     },
     "metadata": {},
     "execution_count": 68
    }
   ],
   "source": [
    "import pandas as pd\n",
    "\n",
    "to_multi_dict = {\n",
    "    0: (1, 1), 1: (0, 1), 2: (1, 2), 3: (0, 0),\n",
    "    4: (0, 2), 5: (1, 0), 6: (0, 3), 7: (1, 3),\n",
    "    8: (2, 1), 9: (3, 1), 10: (2, 0), 11: (4, 1),\n",
    "    12: (2, 2), 13: (3, 2), 14: (2, 3), 15: (4, 2),\n",
    "    16: (4, 0), 17: (3, 0), 18: (4, 3), 19: (3, 3)\n",
    "} \n",
    "to_single_dict = {value:key for key, value in to_multi_dict.items()}\n",
    "\n",
    "df = pd.read_csv('input/train/train_labels.txt', sep=' ', names=['file', 'plant', 'disease'], header=None)\n",
    "\n",
    "from sklearn.model_selection import StratifiedKFold\n",
    "\n",
    "skf = StratifiedKFold(n_splits=5)\n",
    "df['label'] = df[['plant', 'disease']].apply(lambda x: to_single_dict[(x[0], x[1])], axis=1)\n",
    "df[\"kfold\"] = -1\n",
    "\n",
    "df = df.sample(frac=0.05).reset_index(drop=True)\n",
    "for fold, (trn_, val_) in enumerate(skf.split(X=df, y=df['label'])):\n",
    "    print(len(trn_), len(val_))\n",
    "    df.loc[val_, 'kfold'] = fold\n",
    "\n",
    "df.to_csv('input/train_folds.csv', index=False)\n",
    "df.shape"
   ]
  },
  {
   "cell_type": "code",
   "execution_count": 69,
   "metadata": {},
   "outputs": [],
   "source": [
    "import numpy as np"
   ]
  },
  {
   "cell_type": "code",
   "execution_count": 73,
   "metadata": {},
   "outputs": [
    {
     "output_type": "execute_result",
     "data": {
      "text/plain": "[array([1, 2, 3, 4]), array([1, 2, 3, 4]), array([1, 2, 3, 4])]"
     },
     "metadata": {},
     "execution_count": 73
    }
   ],
   "source": [
    "t1 = np.array([[1, 2, 3, 4], [1,2,3,4]])\n",
    "t2 = np.array([[1, 2, 3, 4], [1,2,3,4]])\n",
    "t3 = np.array([[1, 2, 3, 4], [1,2,3,4]])\n",
    "t1 = np.array([1, 2, 3, 4])\n",
    "t2 = np.array([1, 2, 3, 4])\n",
    "t3 = np.array([1, 2, 3, 4])\n",
    "tl = [t1, t2, t3]\n",
    "tl"
   ]
  },
  {
   "cell_type": "code",
   "execution_count": 79,
   "metadata": {},
   "outputs": [
    {
     "output_type": "execute_result",
     "data": {
      "text/plain": "array([1, 2, 3, 4, 1, 2, 3, 4, 1, 2, 3, 4])"
     },
     "metadata": {},
     "execution_count": 79
    }
   ],
   "source": [
    "np.concatenate(tl, )"
   ]
  },
  {
   "cell_type": "code",
   "execution_count": null,
   "metadata": {},
   "outputs": [],
   "source": []
  },
  {
   "cell_type": "code",
   "execution_count": 60,
   "metadata": {},
   "outputs": [],
   "source": []
  },
  {
   "cell_type": "code",
   "execution_count": 61,
   "metadata": {},
   "outputs": [],
   "source": []
  },
  {
   "cell_type": "code",
   "execution_count": 62,
   "metadata": {},
   "outputs": [],
   "source": []
  },
  {
   "cell_type": "code",
   "execution_count": 63,
   "metadata": {
    "tags": []
   },
   "outputs": [
    {
     "output_type": "stream",
     "name": "stdout",
     "text": "5116 1280\n5117 1279\n5117 1279\n5117 1279\n5117 1279\n"
    }
   ],
   "source": []
  },
  {
   "cell_type": "code",
   "execution_count": 64,
   "metadata": {},
   "outputs": [],
   "source": [
    "df = pd.read_csv('./input/train_folds.csv')\n",
    "\n",
    "df_train = df[df['kfold'] != fold].reset_index(drop=True)\n",
    "df_valid = df[df['kfold'] == fold].reset_index(drop=True)"
   ]
  },
  {
   "cell_type": "code",
   "execution_count": 65,
   "metadata": {},
   "outputs": [
    {
     "output_type": "execute_result",
     "data": {
      "text/plain": "           file  plant  disease  label  kfold\n0     19115.jpg      1        1      0      0\n1     18488.jpg      1        2      2      0\n2      9655.jpg      1        2      2      0\n3     58495.jpg      0        1      1      0\n4     44824.jpg      1        0      5      0\n...         ...    ...      ...    ...    ...\n5112   4204.jpg      3        1      9      3\n5113  38996.jpg      3        1      9      3\n5114  34191.jpg      3        1      9      3\n5115  37904.jpg      2        3     14      3\n5116  49899.jpg      4        0     16      3\n\n[5117 rows x 5 columns]",
      "text/html": "<div>\n<style scoped>\n    .dataframe tbody tr th:only-of-type {\n        vertical-align: middle;\n    }\n\n    .dataframe tbody tr th {\n        vertical-align: top;\n    }\n\n    .dataframe thead th {\n        text-align: right;\n    }\n</style>\n<table border=\"1\" class=\"dataframe\">\n  <thead>\n    <tr style=\"text-align: right;\">\n      <th></th>\n      <th>file</th>\n      <th>plant</th>\n      <th>disease</th>\n      <th>label</th>\n      <th>kfold</th>\n    </tr>\n  </thead>\n  <tbody>\n    <tr>\n      <th>0</th>\n      <td>19115.jpg</td>\n      <td>1</td>\n      <td>1</td>\n      <td>0</td>\n      <td>0</td>\n    </tr>\n    <tr>\n      <th>1</th>\n      <td>18488.jpg</td>\n      <td>1</td>\n      <td>2</td>\n      <td>2</td>\n      <td>0</td>\n    </tr>\n    <tr>\n      <th>2</th>\n      <td>9655.jpg</td>\n      <td>1</td>\n      <td>2</td>\n      <td>2</td>\n      <td>0</td>\n    </tr>\n    <tr>\n      <th>3</th>\n      <td>58495.jpg</td>\n      <td>0</td>\n      <td>1</td>\n      <td>1</td>\n      <td>0</td>\n    </tr>\n    <tr>\n      <th>4</th>\n      <td>44824.jpg</td>\n      <td>1</td>\n      <td>0</td>\n      <td>5</td>\n      <td>0</td>\n    </tr>\n    <tr>\n      <th>...</th>\n      <td>...</td>\n      <td>...</td>\n      <td>...</td>\n      <td>...</td>\n      <td>...</td>\n    </tr>\n    <tr>\n      <th>5112</th>\n      <td>4204.jpg</td>\n      <td>3</td>\n      <td>1</td>\n      <td>9</td>\n      <td>3</td>\n    </tr>\n    <tr>\n      <th>5113</th>\n      <td>38996.jpg</td>\n      <td>3</td>\n      <td>1</td>\n      <td>9</td>\n      <td>3</td>\n    </tr>\n    <tr>\n      <th>5114</th>\n      <td>34191.jpg</td>\n      <td>3</td>\n      <td>1</td>\n      <td>9</td>\n      <td>3</td>\n    </tr>\n    <tr>\n      <th>5115</th>\n      <td>37904.jpg</td>\n      <td>2</td>\n      <td>3</td>\n      <td>14</td>\n      <td>3</td>\n    </tr>\n    <tr>\n      <th>5116</th>\n      <td>49899.jpg</td>\n      <td>4</td>\n      <td>0</td>\n      <td>16</td>\n      <td>3</td>\n    </tr>\n  </tbody>\n</table>\n<p>5117 rows × 5 columns</p>\n</div>"
     },
     "metadata": {},
     "execution_count": 65
    }
   ],
   "source": [
    "df_train"
   ]
  },
  {
   "cell_type": "code",
   "execution_count": 57,
   "metadata": {},
   "outputs": [
    {
     "output_type": "execute_result",
     "data": {
      "text/plain": "['37432.jpg',\n '11457.jpg',\n '56809.jpg',\n '40176.jpg',\n '49767.jpg',\n '16854.jpg',\n '25713.jpg',\n '34009.jpg',\n '28452.jpg',\n '37418.jpg',\n '40669.jpg',\n '6212.jpg',\n '41843.jpg',\n '3470.jpg',\n '7749.jpg',\n '17986.jpg',\n '2872.jpg',\n '52366.jpg',\n '12212.jpg',\n '3561.jpg',\n '14363.jpg',\n '21278.jpg',\n '33921.jpg',\n '9091.jpg',\n '47675.jpg',\n '15129.jpg',\n '6257.jpg',\n '5532.jpg',\n '46842.jpg',\n '40657.jpg',\n '59714.jpg',\n '21998.jpg',\n '38017.jpg',\n '4709.jpg',\n '1646.jpg',\n '8365.jpg',\n '3191.jpg',\n '17936.jpg',\n '9239.jpg',\n '44915.jpg',\n '26133.jpg',\n '2093.jpg',\n '51501.jpg',\n '14609.jpg',\n '11997.jpg',\n '48994.jpg',\n '16418.jpg',\n '45949.jpg',\n '44442.jpg',\n '48679.jpg',\n '10433.jpg',\n '39239.jpg',\n '35570.jpg',\n '26267.jpg',\n '4079.jpg',\n '19752.jpg',\n '22644.jpg',\n '40528.jpg',\n '15359.jpg',\n '56291.jpg',\n '3881.jpg',\n '47190.jpg',\n '36422.jpg',\n '11491.jpg',\n '33458.jpg',\n '40375.jpg',\n '7524.jpg',\n '27380.jpg',\n '38938.jpg',\n '48942.jpg',\n '52582.jpg',\n '28931.jpg',\n '28581.jpg',\n '45937.jpg',\n '39643.jpg',\n '17891.jpg',\n '10189.jpg',\n '40120.jpg',\n '20099.jpg',\n '12666.jpg',\n '27175.jpg',\n '23564.jpg',\n '25640.jpg',\n '3888.jpg',\n '17782.jpg',\n '20039.jpg',\n '19832.jpg',\n '32467.jpg',\n '3490.jpg',\n '6471.jpg',\n '37986.jpg',\n '19435.jpg',\n '40013.jpg',\n '29094.jpg',\n '22673.jpg',\n '15363.jpg',\n '21067.jpg',\n '14935.jpg',\n '26639.jpg',\n '18640.jpg',\n '12244.jpg',\n '2545.jpg',\n '24169.jpg',\n '15060.jpg',\n '25444.jpg',\n '2145.jpg',\n '50180.jpg',\n '3741.jpg',\n '44893.jpg',\n '12419.jpg',\n '49125.jpg',\n '51145.jpg',\n '22919.jpg',\n '34756.jpg',\n '24513.jpg',\n '12870.jpg',\n '56769.jpg',\n '17558.jpg',\n '37578.jpg',\n '26792.jpg',\n '6190.jpg',\n '18044.jpg',\n '54527.jpg',\n '10749.jpg',\n '56967.jpg',\n '7463.jpg',\n '23237.jpg',\n '28856.jpg',\n '36456.jpg',\n '32555.jpg',\n '54865.jpg',\n '52200.jpg',\n '5073.jpg',\n '11708.jpg',\n '1846.jpg',\n '5566.jpg',\n '28173.jpg',\n '3096.jpg',\n '42214.jpg',\n '44091.jpg',\n '6217.jpg',\n '44961.jpg',\n '25675.jpg',\n '41848.jpg',\n '46073.jpg',\n '8441.jpg',\n '37926.jpg',\n '21569.jpg',\n '16441.jpg',\n '7748.jpg',\n '31579.jpg',\n '12108.jpg',\n '23775.jpg',\n '47184.jpg',\n '17258.jpg',\n '8556.jpg',\n '33848.jpg',\n '54654.jpg',\n '11034.jpg',\n '58165.jpg',\n '54071.jpg',\n '28154.jpg',\n '6902.jpg',\n '35127.jpg',\n '10883.jpg',\n '39935.jpg',\n '53084.jpg',\n '9347.jpg',\n '45303.jpg',\n '40691.jpg',\n '3707.jpg',\n '13567.jpg',\n '25226.jpg',\n '52185.jpg',\n '31922.jpg',\n '3455.jpg',\n '45929.jpg',\n '56653.jpg',\n '59682.jpg',\n '33875.jpg',\n '14970.jpg',\n '27287.jpg',\n '52495.jpg',\n '28352.jpg',\n '58329.jpg',\n '50305.jpg',\n '56300.jpg',\n '37671.jpg',\n '23319.jpg',\n '39720.jpg',\n '20593.jpg',\n '11623.jpg',\n '1944.jpg',\n '59935.jpg',\n '49138.jpg',\n '18008.jpg',\n '8988.jpg',\n '47681.jpg',\n '10307.jpg',\n '11244.jpg',\n '29880.jpg',\n '25818.jpg',\n '17962.jpg',\n '17775.jpg',\n '37228.jpg',\n '32071.jpg',\n '40281.jpg',\n '17227.jpg',\n '42961.jpg',\n '20919.jpg',\n '47886.jpg',\n '4503.jpg',\n '14704.jpg',\n '26849.jpg',\n '11370.jpg',\n '37414.jpg',\n '53089.jpg',\n '37319.jpg',\n '21401.jpg',\n '28153.jpg',\n '30337.jpg',\n '30324.jpg',\n '33979.jpg',\n '54342.jpg',\n '15518.jpg',\n '31782.jpg',\n '55587.jpg',\n '42879.jpg',\n '53659.jpg',\n '49765.jpg',\n '59692.jpg',\n '9819.jpg',\n '39644.jpg',\n '48100.jpg',\n '39258.jpg',\n '44570.jpg',\n '32808.jpg',\n '19069.jpg',\n '54613.jpg',\n '41752.jpg',\n '33514.jpg',\n '52477.jpg',\n '10296.jpg',\n '28230.jpg',\n '19311.jpg',\n '22681.jpg',\n '8206.jpg',\n '26951.jpg',\n '17778.jpg',\n '19436.jpg',\n '26012.jpg',\n '19370.jpg',\n '13018.jpg',\n '47794.jpg',\n '52888.jpg',\n '10063.jpg',\n '30611.jpg',\n '56095.jpg',\n '5878.jpg',\n '43737.jpg',\n '57625.jpg',\n '22344.jpg',\n '25170.jpg',\n '21559.jpg',\n '44251.jpg',\n '51633.jpg',\n '28785.jpg',\n '58170.jpg',\n '14536.jpg',\n '16388.jpg',\n '48665.jpg',\n '8789.jpg',\n '19051.jpg',\n '16805.jpg',\n '11848.jpg',\n '6103.jpg',\n '34300.jpg',\n '13079.jpg',\n '34342.jpg',\n '27898.jpg',\n '17494.jpg',\n '51657.jpg',\n '53892.jpg',\n '58013.jpg',\n '25779.jpg',\n '14076.jpg',\n '15242.jpg',\n '49363.jpg',\n '24497.jpg',\n '35263.jpg',\n '53003.jpg',\n '59726.jpg',\n '21063.jpg',\n '40127.jpg',\n '55349.jpg',\n '43622.jpg',\n '41986.jpg',\n '59546.jpg',\n '2251.jpg',\n '51696.jpg',\n '10594.jpg',\n '38416.jpg',\n '7890.jpg',\n '20281.jpg',\n '28692.jpg',\n '9211.jpg',\n '31887.jpg',\n '9821.jpg',\n '58851.jpg',\n '43157.jpg',\n '29765.jpg',\n '53934.jpg',\n '36917.jpg',\n '2762.jpg',\n '24628.jpg',\n '24258.jpg',\n '16086.jpg',\n '39257.jpg',\n '45116.jpg',\n '43638.jpg',\n '3751.jpg',\n '54635.jpg',\n '29677.jpg',\n '18404.jpg',\n '51164.jpg',\n '33734.jpg',\n '25364.jpg',\n '44031.jpg',\n '27934.jpg',\n '13556.jpg',\n '32375.jpg',\n '18792.jpg',\n '50726.jpg',\n '36845.jpg',\n '31049.jpg',\n '10605.jpg',\n '43052.jpg',\n '8499.jpg',\n '31988.jpg',\n '34748.jpg',\n '25032.jpg',\n '13718.jpg',\n '51604.jpg',\n '14511.jpg',\n '58869.jpg',\n '4640.jpg',\n '36605.jpg',\n '48815.jpg',\n '45413.jpg',\n '45795.jpg',\n '6642.jpg',\n '53464.jpg',\n '57930.jpg',\n '57899.jpg',\n '30957.jpg',\n '35556.jpg',\n '16280.jpg',\n '39596.jpg',\n '26186.jpg',\n '44810.jpg',\n '3460.jpg',\n '53815.jpg',\n '15520.jpg',\n '26598.jpg',\n '35877.jpg',\n '4114.jpg',\n '17639.jpg',\n '33143.jpg',\n '28258.jpg',\n '5608.jpg',\n '7006.jpg',\n '18838.jpg',\n '31896.jpg',\n '35947.jpg',\n '9556.jpg',\n '7249.jpg',\n '10404.jpg',\n '28032.jpg',\n '48223.jpg',\n '48981.jpg',\n '55548.jpg',\n '7667.jpg',\n '37190.jpg',\n '45023.jpg',\n '58425.jpg',\n '23240.jpg',\n '19520.jpg',\n '43224.jpg',\n '7968.jpg',\n '18924.jpg',\n '33609.jpg',\n '14044.jpg',\n '4467.jpg',\n '45237.jpg',\n '26530.jpg',\n '18432.jpg',\n '48799.jpg',\n '5457.jpg',\n '17274.jpg',\n '14962.jpg',\n '32190.jpg',\n '10512.jpg',\n '54639.jpg',\n '34899.jpg',\n '11575.jpg',\n '58117.jpg',\n '21570.jpg',\n '44206.jpg',\n '15706.jpg',\n '50725.jpg',\n '3974.jpg',\n '7941.jpg',\n '36929.jpg',\n '33101.jpg',\n '10566.jpg',\n '17614.jpg',\n '38578.jpg',\n '38596.jpg',\n '51542.jpg',\n '31320.jpg',\n '31713.jpg',\n '58642.jpg',\n '31601.jpg',\n '19022.jpg',\n '20358.jpg',\n '44017.jpg',\n '51354.jpg',\n '21030.jpg',\n '18523.jpg',\n '13121.jpg',\n '42718.jpg',\n '47193.jpg',\n '51215.jpg',\n '12134.jpg',\n '14389.jpg',\n '47614.jpg',\n '22823.jpg',\n '6042.jpg',\n '29940.jpg',\n '53557.jpg',\n '42827.jpg',\n '42591.jpg',\n '17607.jpg',\n '14668.jpg',\n '7367.jpg',\n '31690.jpg',\n '23702.jpg',\n '9794.jpg',\n '29841.jpg',\n '21147.jpg',\n '44636.jpg',\n '19663.jpg',\n '48584.jpg',\n '38417.jpg',\n '55138.jpg',\n '42175.jpg',\n '13573.jpg',\n '25075.jpg',\n '50452.jpg',\n '5544.jpg',\n '55900.jpg',\n '11728.jpg',\n '24818.jpg',\n '8787.jpg',\n '28999.jpg',\n '41712.jpg',\n '41457.jpg',\n '57343.jpg',\n '46327.jpg',\n '27171.jpg',\n '57952.jpg',\n '51348.jpg',\n '49959.jpg',\n '14708.jpg',\n '36410.jpg',\n '32558.jpg',\n '4040.jpg',\n '37958.jpg',\n '13184.jpg',\n '57788.jpg',\n '42411.jpg',\n '13403.jpg',\n '24617.jpg',\n '3978.jpg',\n '35434.jpg',\n '3798.jpg',\n '12658.jpg',\n '58298.jpg',\n '57263.jpg',\n '4722.jpg',\n '19810.jpg',\n '58941.jpg',\n '39254.jpg',\n '12148.jpg',\n '50728.jpg',\n '4249.jpg',\n '50234.jpg',\n '39151.jpg',\n '27726.jpg',\n '23537.jpg',\n '14855.jpg',\n '28052.jpg',\n '58949.jpg',\n '34315.jpg',\n '15773.jpg',\n '17363.jpg',\n '4599.jpg',\n '41331.jpg',\n '12980.jpg',\n '55576.jpg',\n '44166.jpg',\n '17559.jpg',\n '37307.jpg',\n '42829.jpg',\n '30222.jpg',\n '25386.jpg',\n '13243.jpg',\n '27075.jpg',\n '37948.jpg',\n '21740.jpg',\n '38656.jpg',\n '21566.jpg',\n '4374.jpg',\n '7377.jpg',\n '26027.jpg',\n '55944.jpg',\n '29563.jpg',\n '44224.jpg',\n '19063.jpg',\n '42510.jpg',\n '17025.jpg',\n '44781.jpg',\n '27142.jpg',\n '49863.jpg',\n '18771.jpg',\n '55643.jpg',\n '25078.jpg',\n '19420.jpg',\n '30320.jpg',\n '1599.jpg',\n '53137.jpg',\n '48732.jpg',\n '26685.jpg',\n '51589.jpg',\n '4370.jpg',\n '10345.jpg',\n '12943.jpg',\n '15401.jpg',\n '41846.jpg',\n '18763.jpg',\n '30564.jpg',\n '12216.jpg',\n '21882.jpg',\n '19667.jpg',\n '33920.jpg',\n '11135.jpg',\n '27621.jpg',\n '9552.jpg',\n '5614.jpg',\n '28188.jpg',\n '12186.jpg',\n '20388.jpg',\n '34568.jpg',\n '48135.jpg',\n '44122.jpg',\n '51758.jpg',\n '16819.jpg',\n '38285.jpg',\n '48720.jpg',\n '29211.jpg',\n '24132.jpg',\n '57637.jpg',\n '49752.jpg',\n '5001.jpg',\n '34311.jpg',\n '33909.jpg',\n '56013.jpg',\n '7262.jpg',\n '11614.jpg',\n '37405.jpg',\n '11422.jpg',\n '33328.jpg',\n '8440.jpg',\n '58978.jpg',\n '44844.jpg',\n '17564.jpg',\n '6798.jpg',\n '43639.jpg',\n '57326.jpg',\n '34788.jpg',\n '24032.jpg',\n '56429.jpg',\n '2923.jpg',\n '46951.jpg',\n '34181.jpg',\n '15805.jpg',\n '53092.jpg',\n '33084.jpg',\n '44982.jpg',\n '37778.jpg',\n '55646.jpg',\n '3485.jpg',\n '51455.jpg',\n '8479.jpg',\n '25177.jpg',\n '51913.jpg',\n '57995.jpg',\n '59342.jpg',\n '30038.jpg',\n '11246.jpg',\n '50160.jpg',\n '35931.jpg',\n '48244.jpg',\n '23823.jpg',\n '41353.jpg',\n '26844.jpg',\n '32563.jpg',\n '9344.jpg',\n '12101.jpg',\n '38832.jpg',\n '48213.jpg',\n '19152.jpg',\n '48921.jpg',\n '57737.jpg',\n '34633.jpg',\n '22943.jpg',\n '23172.jpg',\n '18214.jpg',\n '31946.jpg',\n '15284.jpg',\n '49240.jpg',\n '19425.jpg',\n '8763.jpg',\n '59352.jpg',\n '51557.jpg',\n '56502.jpg',\n '40772.jpg',\n '34125.jpg',\n '15614.jpg',\n '8463.jpg',\n '21269.jpg',\n '42109.jpg',\n '11958.jpg',\n '7573.jpg',\n '52160.jpg',\n '1598.jpg',\n '17672.jpg',\n '12170.jpg',\n '14305.jpg',\n '4696.jpg',\n '21454.jpg',\n '59572.jpg',\n '58138.jpg',\n '1791.jpg',\n '39026.jpg',\n '6118.jpg',\n '7692.jpg',\n '55516.jpg',\n '8306.jpg',\n '19187.jpg',\n '34064.jpg',\n '57358.jpg',\n '59764.jpg',\n '16208.jpg',\n '3870.jpg',\n '50161.jpg',\n '33035.jpg',\n '8187.jpg',\n '54697.jpg',\n '3901.jpg',\n '3708.jpg',\n '45772.jpg',\n '33079.jpg',\n '28256.jpg',\n '45761.jpg',\n '9076.jpg',\n '54590.jpg',\n '26733.jpg',\n '29078.jpg',\n '24655.jpg',\n '14138.jpg',\n '34356.jpg',\n '49304.jpg',\n '29981.jpg',\n '46100.jpg',\n '42583.jpg',\n '19530.jpg',\n '13673.jpg',\n '5420.jpg',\n '4903.jpg',\n '5279.jpg',\n '6627.jpg',\n '43153.jpg',\n '43280.jpg',\n '40467.jpg',\n '4929.jpg',\n '7751.jpg',\n '50157.jpg',\n '17073.jpg',\n '23484.jpg',\n '9808.jpg',\n '33711.jpg',\n '9610.jpg',\n '48183.jpg',\n '51008.jpg',\n '8295.jpg',\n '6826.jpg',\n '17139.jpg',\n '16105.jpg',\n '50030.jpg',\n '11354.jpg',\n '19971.jpg',\n '17306.jpg',\n '45120.jpg',\n '26550.jpg',\n '19034.jpg',\n '51564.jpg',\n '22074.jpg',\n '50890.jpg',\n '53991.jpg',\n '15688.jpg',\n '13355.jpg',\n '5972.jpg',\n '7509.jpg',\n '26171.jpg',\n '6632.jpg',\n '3141.jpg',\n '18749.jpg',\n '32244.jpg',\n '28573.jpg',\n '53095.jpg',\n '9189.jpg',\n '11205.jpg',\n '13263.jpg',\n '17398.jpg',\n '49549.jpg',\n '30576.jpg',\n '10616.jpg',\n '42141.jpg',\n '5292.jpg',\n '5590.jpg',\n '40644.jpg',\n '4076.jpg',\n '16956.jpg',\n '52651.jpg',\n '44159.jpg',\n '12884.jpg',\n '58887.jpg',\n '22648.jpg',\n '54986.jpg',\n '52475.jpg',\n '30927.jpg',\n '18793.jpg',\n '7005.jpg',\n '9827.jpg',\n '14490.jpg',\n '17924.jpg',\n '17788.jpg',\n '43973.jpg',\n '14539.jpg',\n '28638.jpg',\n '16005.jpg',\n '44313.jpg',\n '4995.jpg',\n '21331.jpg',\n '40412.jpg',\n '8328.jpg',\n '29462.jpg',\n '46016.jpg',\n '9114.jpg',\n '25018.jpg',\n '26999.jpg',\n '56883.jpg',\n '23704.jpg',\n '5209.jpg',\n '34267.jpg',\n '34462.jpg',\n '50849.jpg',\n '29022.jpg',\n '16567.jpg',\n '42061.jpg',\n '54546.jpg',\n '13178.jpg',\n '17459.jpg',\n '57531.jpg',\n '14977.jpg',\n '7488.jpg',\n '28582.jpg',\n '44649.jpg',\n '27423.jpg',\n '22672.jpg',\n '2350.jpg',\n '23977.jpg',\n '12533.jpg',\n '31908.jpg',\n '28586.jpg',\n '14104.jpg',\n '55547.jpg',\n '58571.jpg',\n '17158.jpg',\n '18302.jpg',\n '7864.jpg',\n '44012.jpg',\n '46934.jpg',\n '15726.jpg',\n '22406.jpg',\n '17990.jpg',\n '38830.jpg',\n '27512.jpg',\n '49740.jpg',\n '25104.jpg',\n '17900.jpg',\n '53688.jpg',\n '35020.jpg',\n '17303.jpg',\n '30143.jpg',\n '47582.jpg',\n '30550.jpg',\n '8068.jpg',\n '46869.jpg',\n '24498.jpg',\n '21397.jpg',\n '46541.jpg',\n '21306.jpg',\n '29798.jpg',\n '31876.jpg',\n '28401.jpg',\n '57887.jpg',\n '19523.jpg',\n '5055.jpg',\n '5150.jpg',\n '25521.jpg',\n '38312.jpg',\n '10256.jpg',\n '11547.jpg',\n '49558.jpg',\n '5942.jpg',\n '45980.jpg',\n '14496.jpg',\n '17930.jpg',\n '46816.jpg',\n '35358.jpg',\n '25658.jpg',\n '14603.jpg',\n '13132.jpg',\n '8774.jpg',\n '38177.jpg',\n '7411.jpg',\n '5858.jpg',\n '51423.jpg',\n '49736.jpg',\n '49130.jpg',\n '19978.jpg',\n '43893.jpg',\n '36275.jpg',\n '13385.jpg',\n '45636.jpg',\n '32840.jpg',\n '35816.jpg',\n '3622.jpg',\n '17433.jpg',\n '9661.jpg',\n '52547.jpg',\n '29061.jpg',\n '42223.jpg',\n '46527.jpg',\n '28897.jpg',\n '22043.jpg',\n '6604.jpg',\n '21971.jpg',\n '52968.jpg',\n '51576.jpg',\n '19827.jpg',\n '21330.jpg',\n '29924.jpg',\n '4260.jpg',\n '10571.jpg',\n '21890.jpg',\n '46820.jpg',\n '35811.jpg',\n '54383.jpg',\n '23165.jpg',\n '52168.jpg',\n '28316.jpg',\n '44984.jpg',\n '14544.jpg',\n '56415.jpg',\n '45409.jpg',\n '56647.jpg',\n '40128.jpg',\n '49010.jpg',\n '16147.jpg',\n '20204.jpg',\n '28438.jpg',\n '56687.jpg',\n '32415.jpg',\n '23884.jpg',\n '42084.jpg',\n '6531.jpg',\n '31178.jpg',\n '15798.jpg',\n '16041.jpg',\n '49710.jpg',\n '8821.jpg',\n '20022.jpg',\n '57009.jpg',\n '16633.jpg',\n '33769.jpg',\n '4933.jpg',\n '4680.jpg',\n '11736.jpg',\n '58324.jpg',\n '49953.jpg',\n '26821.jpg',\n '19165.jpg',\n '15877.jpg',\n '42113.jpg',\n '46732.jpg',\n '27019.jpg',\n '34557.jpg',\n '5084.jpg',\n '10129.jpg',\n '29927.jpg',\n '26276.jpg',\n '36995.jpg',\n '21745.jpg',\n '7135.jpg',\n '7709.jpg',\n '16838.jpg',\n '9528.jpg',\n '19573.jpg',\n '26939.jpg',\n '12452.jpg',\n '14374.jpg',\n '24455.jpg',\n '27057.jpg',\n '41522.jpg',\n '10175.jpg',\n '59267.jpg',\n '46342.jpg',\n '42633.jpg',\n '38825.jpg',\n '44985.jpg',\n '17192.jpg',\n '5774.jpg',\n '10269.jpg',\n '6813.jpg',\n '57468.jpg',\n '33831.jpg',\n '49121.jpg',\n '14712.jpg',\n '15263.jpg',\n '28094.jpg',\n '42137.jpg',\n '34913.jpg',\n '3200.jpg',\n '35653.jpg',\n '50194.jpg',\n '4412.jpg',\n '25296.jpg',\n '33643.jpg',\n '42104.jpg',\n '22257.jpg',\n '32004.jpg',\n '19867.jpg',\n '8254.jpg',\n '30945.jpg',\n '48319.jpg',\n '53571.jpg',\n '31248.jpg',\n '23238.jpg',\n '48215.jpg',\n '22657.jpg',\n '21385.jpg',\n '29930.jpg',\n '25806.jpg',\n '46978.jpg',\n '24111.jpg',\n '2671.jpg',\n '59286.jpg',\n '57129.jpg',\n '43202.jpg',\n '25317.jpg',\n '35562.jpg',\n '12161.jpg',\n '28660.jpg',\n '17267.jpg',\n '51534.jpg',\n '31316.jpg',\n '26794.jpg',\n '37522.jpg',\n '56315.jpg',\n '25326.jpg',\n '26648.jpg',\n '41402.jpg',\n '3645.jpg',\n '22641.jpg',\n '9666.jpg',\n '28467.jpg',\n '33738.jpg',\n ...]"
     },
     "metadata": {},
     "execution_count": 57
    }
   ],
   "source": [
    "df['file'].values.tolist()"
   ]
  },
  {
   "cell_type": "code",
   "execution_count": null,
   "metadata": {},
   "outputs": [],
   "source": []
  },
  {
   "cell_type": "code",
   "execution_count": 1,
   "metadata": {},
   "outputs": [],
   "source": [
    "to_multi_dict = {\n",
    "    0: (1, 1), 1: (0, 1), 2: (1, 2), 3: (0, 0),\n",
    "    4: (0, 2), 5: (1, 0), 6: (0, 3), 7: (1, 3),\n",
    "    8: (2, 1), 9: (3, 1), 10: (2, 0), 11: (4, 1),\n",
    "    12: (2, 2), 13: (3, 2), 14: (2, 3), 15: (4, 2),\n",
    "    16: (4, 0), 17: (3, 0), 18: (4, 3), 19: (3, 3)\n",
    "}  "
   ]
  },
  {
   "cell_type": "code",
   "execution_count": null,
   "metadata": {},
   "outputs": [],
   "source": [
    "[[0,0,1,0,4]]"
   ]
  },
  {
   "cell_type": "code",
   "execution_count": 5,
   "metadata": {},
   "outputs": [],
   "source": [
    "to_single_dict = {value:key for key, value in to_multi_dict.items()}\n",
    "\n",
    "def to_multi_label(label):\n",
    "    return to_multi_dict[label]\n",
    "\n",
    "\n",
    "def to_single_label(label):\n",
    "    return to_single_dict[label]\n"
   ]
  },
  {
   "cell_type": "code",
   "execution_count": 12,
   "metadata": {},
   "outputs": [
    {
     "name": "stdout",
     "output_type": "stream",
     "text": [
      "(0, 1)\n",
      "1\n"
     ]
    }
   ],
   "source": [
    "print(to_multi_label(1))\n",
    "print(to_single_label((0,1)))"
   ]
  },
  {
   "cell_type": "code",
   "execution_count": 27,
   "metadata": {},
   "outputs": [
    {
     "data": {
      "text/plain": [
       "tensor([1, 0, 2, 3, 4, 0, 1, 0])"
      ]
     },
     "execution_count": 27,
     "metadata": {},
     "output_type": "execute_result"
    }
   ],
   "source": [
    "import torch\n",
    "\n",
    "preds = torch.tensor([1, 0, 2, 3, 4, 0, 1, 0])\n",
    "preds"
   ]
  },
  {
   "cell_type": "code",
   "execution_count": 33,
   "metadata": {},
   "outputs": [],
   "source": [
    "from sklearn.metrics import hamming_loss"
   ]
  },
  {
   "cell_type": "code",
   "execution_count": 44,
   "metadata": {},
   "outputs": [
    {
     "name": "stdout",
     "output_type": "stream",
     "text": [
      "(0, 1)\n",
      "(1, 1)\n",
      "(1, 2)\n",
      "(0, 0)\n",
      "(0, 2)\n",
      "(1, 1)\n",
      "(0, 1)\n",
      "(1, 1)\n"
     ]
    },
    {
     "data": {
      "text/plain": [
       "array([[0, 1],\n",
       "       [1, 1],\n",
       "       [1, 2],\n",
       "       [0, 0],\n",
       "       [0, 2],\n",
       "       [1, 1],\n",
       "       [0, 1],\n",
       "       [1, 1]])"
      ]
     },
     "execution_count": 44,
     "metadata": {},
     "output_type": "execute_result"
    }
   ],
   "source": [
    "converted = []\n",
    "for i in preds:\n",
    "    print(to_multi_label(i.item()))\n",
    "    converted.append(to_multi_label(i.item()))\n",
    "\n",
    "converted = torch.tensor(converted).numpy()\n",
    "converted"
   ]
  },
  {
   "cell_type": "code",
   "execution_count": 103,
   "metadata": {},
   "outputs": [
    {
     "data": {
      "text/plain": [
       "array([[1, 3],\n",
       "       [0, 3],\n",
       "       [0, 0],\n",
       "       [1, 1]])"
      ]
     },
     "execution_count": 103,
     "metadata": {},
     "output_type": "execute_result"
    }
   ],
   "source": [
    "plant = torch.tensor([1, 0, 0, 1])\n",
    "disease = torch.tensor([3, 3, 0, 1])\n",
    "labels = torch.stack([plant, disease], 1).numpy()\n",
    "labels"
   ]
  },
  {
   "cell_type": "code",
   "execution_count": 105,
   "metadata": {},
   "outputs": [
    {
     "data": {
      "text/plain": [
       "torch.Size([4, 15])"
      ]
     },
     "execution_count": 105,
     "metadata": {},
     "output_type": "execute_result"
    }
   ],
   "source": [
    "outputs = torch.tensor([[ 0.7720,  0.4315, -0.1656,  0.3611, -0.0174,  0.3900, -0.2876, -0.6492,\n",
    "             -0.1102, -0.7615, -0.6320, -0.4441, -0.3660, -0.5327, -0.4215],\n",
    "        [ 0.6881, -0.1136,  0.1896,  1.7900, -0.0628, -1.3588, -0.3953, -0.5977,\n",
    "         -0.1905, -0.6371, -0.4053, -0.4300, -0.4487, -0.3994, -0.2362],\n",
    "        [ 0.6740,  0.3783, -0.1375,  0.4170,  0.1359,  0.2389, -0.3898, -0.6031,\n",
    "         -0.0760, -0.6946, -0.6703, -0.4066, -0.3344, -0.5917, -0.4001],\n",
    "        [ 1.2386,  0.3176, -0.1694, -1.0715, -0.0833,  2.7644, -0.5077, -0.7475,\n",
    "         -0.0086, -1.0449, -0.9783, -0.5855, -0.3700, -0.7392, -1.0741]])"
   ]
  },
  {
   "cell_type": "code",
   "execution_count": 106,
   "metadata": {},
   "outputs": [
    {
     "data": {
      "text/plain": [
       "tensor([0, 3, 0, 5])"
      ]
     },
     "execution_count": 106,
     "metadata": {},
     "output_type": "execute_result"
    }
   ],
   "source": [
    "_, preds = torch.max(outputs, 1)\n",
    "preds"
   ]
  },
  {
   "cell_type": "code",
   "execution_count": null,
   "metadata": {},
   "outputs": [],
   "source": []
  },
  {
   "cell_type": "code",
   "execution_count": 111,
   "metadata": {},
   "outputs": [
    {
     "name": "stdout",
     "output_type": "stream",
     "text": [
      "(1, 1)\n",
      "(0, 0)\n",
      "(1, 1)\n",
      "(1, 0)\n"
     ]
    }
   ],
   "source": [
    "converted = []\n",
    "for i in preds:\n",
    "    print(to_multi_label(i.item()))\n",
    "    converted.append(to_multi_label(i.item()))\n",
    "\n",
    "converted = np.asarray(converted)\n",
    "    \n",
    "preds_plant = converted[:,0]\n",
    "preds_disease = converted[:,1]"
   ]
  },
  {
   "cell_type": "code",
   "execution_count": 112,
   "metadata": {},
   "outputs": [
    {
     "data": {
      "text/plain": [
       "array([1, 0, 1, 1])"
      ]
     },
     "execution_count": 112,
     "metadata": {},
     "output_type": "execute_result"
    }
   ],
   "source": [
    "preds_plant"
   ]
  },
  {
   "cell_type": "code",
   "execution_count": 113,
   "metadata": {},
   "outputs": [
    {
     "data": {
      "text/plain": [
       "array([1, 0, 1, 0])"
      ]
     },
     "execution_count": 113,
     "metadata": {},
     "output_type": "execute_result"
    }
   ],
   "source": [
    "preds_disease"
   ]
  },
  {
   "cell_type": "code",
   "execution_count": null,
   "metadata": {},
   "outputs": [],
   "source": []
  },
  {
   "cell_type": "code",
   "execution_count": null,
   "metadata": {},
   "outputs": [],
   "source": []
  },
  {
   "cell_type": "code",
   "execution_count": 100,
   "metadata": {},
   "outputs": [
    {
     "data": {
      "text/plain": [
       "array([[1, 3],\n",
       "       [0, 3],\n",
       "       [0, 0],\n",
       "       [1, 1]])"
      ]
     },
     "execution_count": 100,
     "metadata": {},
     "output_type": "execute_result"
    }
   ],
   "source": [
    "plant = torch.tensor([1, 0, 0, 1])\n",
    "disease = torch.tensor([3, 3, 0, 1])\n",
    "labels = torch.stack([plant, disease], 1).numpy()\n",
    "labels"
   ]
  },
  {
   "cell_type": "code",
   "execution_count": 114,
   "metadata": {},
   "outputs": [],
   "source": [
    "def cal_hamming_loss(plant, disease, outputs):\n",
    "    plant = plant.numpy()\n",
    "    disease = disease.numpy()\n",
    "    outputs = outputs.numpy()\n",
    "    \n",
    "    converted = []\n",
    "    for i in outputs:\n",
    "        converted.append(to_multi_label(i.item()))\n",
    "    \n",
    "    converted = np.asarray(converted)\n",
    "\n",
    "    preds_plant = converted[:,0]\n",
    "    preds_disease = converted[:,1]\n",
    "    \n",
    "    loss = (hamming_loss(plant, preds_plant) + hamming_loss(disease, preds_disease)) / 2\n",
    "    return loss\n",
    "    "
   ]
  },
  {
   "cell_type": "code",
   "execution_count": 115,
   "metadata": {},
   "outputs": [
    {
     "name": "stdout",
     "output_type": "stream",
     "text": [
      "0.625\n"
     ]
    }
   ],
   "source": [
    "cal_hamming_loss(plant, disease, preds)"
   ]
  },
  {
   "cell_type": "code",
   "execution_count": null,
   "metadata": {},
   "outputs": [],
   "source": []
  },
  {
   "cell_type": "code",
   "execution_count": null,
   "metadata": {},
   "outputs": [],
   "source": []
  },
  {
   "cell_type": "code",
   "execution_count": null,
   "metadata": {},
   "outputs": [],
   "source": []
  },
  {
   "cell_type": "code",
   "execution_count": 92,
   "metadata": {},
   "outputs": [
    {
     "data": {
      "text/plain": [
       "array([0, 5, 1, 4, 0, 2, 1, 0])"
      ]
     },
     "execution_count": 92,
     "metadata": {},
     "output_type": "execute_result"
    }
   ],
   "source": [
    "plant.numpy()"
   ]
  },
  {
   "cell_type": "code",
   "execution_count": 95,
   "metadata": {},
   "outputs": [
    {
     "data": {
      "text/plain": [
       "array([[1., 0., 0., 0., 0., 0.],\n",
       "       [0., 0., 0., 0., 0., 1.],\n",
       "       [0., 1., 0., 0., 0., 0.],\n",
       "       [0., 0., 0., 0., 1., 0.],\n",
       "       [1., 0., 0., 0., 0., 0.],\n",
       "       [0., 0., 1., 0., 0., 0.],\n",
       "       [0., 1., 0., 0., 0., 0.],\n",
       "       [1., 0., 0., 0., 0., 0.]])"
      ]
     },
     "execution_count": 95,
     "metadata": {},
     "output_type": "execute_result"
    }
   ],
   "source": [
    "num = np.max(plant.numpy()) + 1\n",
    "encoding = np.eye(num)[plant.numpy()]\n",
    "encoding"
   ]
  },
  {
   "cell_type": "code",
   "execution_count": 97,
   "metadata": {},
   "outputs": [
    {
     "data": {
      "text/plain": [
       "array([[1., 0., 0., 0., 0., 0.],\n",
       "       [0., 0., 0., 0., 0., 1.],\n",
       "       [0., 1., 0., 0., 0., 0.],\n",
       "       [0., 0., 0., 0., 1., 0.],\n",
       "       [1., 0., 0., 0., 0., 0.],\n",
       "       [0., 0., 1., 0., 0., 0.],\n",
       "       [0., 1., 0., 0., 0., 0.],\n",
       "       [1., 0., 0., 0., 0., 0.]])"
      ]
     },
     "execution_count": 97,
     "metadata": {},
     "output_type": "execute_result"
    }
   ],
   "source": [
    "encoding"
   ]
  },
  {
   "cell_type": "code",
   "execution_count": 98,
   "metadata": {},
   "outputs": [
    {
     "data": {
      "text/plain": [
       "0.0"
      ]
     },
     "execution_count": 98,
     "metadata": {},
     "output_type": "execute_result"
    }
   ],
   "source": [
    "hamming_loss(encoding, encoding)"
   ]
  },
  {
   "cell_type": "code",
   "execution_count": null,
   "metadata": {},
   "outputs": [],
   "source": [
    "encoding"
   ]
  },
  {
   "cell_type": "code",
   "execution_count": null,
   "metadata": {},
   "outputs": [],
   "source": []
  },
  {
   "cell_type": "code",
   "execution_count": null,
   "metadata": {},
   "outputs": [],
   "source": []
  },
  {
   "cell_type": "code",
   "execution_count": 96,
   "metadata": {},
   "outputs": [
    {
     "data": {
      "text/plain": [
       "array([0, 5, 1, 4, 0, 2, 1, 0])"
      ]
     },
     "execution_count": 96,
     "metadata": {},
     "output_type": "execute_result"
    }
   ],
   "source": [
    "plant.numpy()"
   ]
  },
  {
   "cell_type": "code",
   "execution_count": null,
   "metadata": {},
   "outputs": [],
   "source": []
  },
  {
   "cell_type": "code",
   "execution_count": 75,
   "metadata": {},
   "outputs": [
    {
     "data": {
      "text/plain": [
       "array([[1., 0., 0., 0., 0.],\n",
       "       [0., 1., 0., 0., 0.],\n",
       "       [0., 0., 1., 0., 0.],\n",
       "       [0., 0., 0., 1., 0.],\n",
       "       [0., 0., 0., 0., 1.]])"
      ]
     },
     "execution_count": 75,
     "metadata": {},
     "output_type": "execute_result"
    }
   ],
   "source": [
    "np.eye(5)"
   ]
  },
  {
   "cell_type": "code",
   "execution_count": null,
   "metadata": {},
   "outputs": [],
   "source": []
  },
  {
   "cell_type": "code",
   "execution_count": null,
   "metadata": {},
   "outputs": [],
   "source": []
  },
  {
   "cell_type": "code",
   "execution_count": null,
   "metadata": {},
   "outputs": [],
   "source": []
  },
  {
   "cell_type": "code",
   "execution_count": 53,
   "metadata": {},
   "outputs": [
    {
     "data": {
      "text/plain": [
       "array([[0, 1],\n",
       "       [0, 0],\n",
       "       [1, 0],\n",
       "       [1, 1],\n",
       "       [0, 1],\n",
       "       [0, 0],\n",
       "       [1, 1],\n",
       "       [0, 0]])"
      ]
     },
     "execution_count": 53,
     "metadata": {},
     "output_type": "execute_result"
    }
   ],
   "source": [
    "labels"
   ]
  },
  {
   "cell_type": "code",
   "execution_count": 54,
   "metadata": {},
   "outputs": [
    {
     "data": {
      "text/plain": [
       "array([[0, 1],\n",
       "       [1, 1],\n",
       "       [1, 2],\n",
       "       [0, 0],\n",
       "       [0, 2],\n",
       "       [1, 1],\n",
       "       [0, 1],\n",
       "       [1, 1]])"
      ]
     },
     "execution_count": 54,
     "metadata": {},
     "output_type": "execute_result"
    }
   ],
   "source": [
    "converted"
   ]
  },
  {
   "cell_type": "code",
   "execution_count": 55,
   "metadata": {},
   "outputs": [
    {
     "ename": "ValueError",
     "evalue": "Classification metrics can't handle a mix of multilabel-indicator and multiclass-multioutput targets",
     "output_type": "error",
     "traceback": [
      "\u001b[0;31m---------------------------------------------------------------------------\u001b[0m",
      "\u001b[0;31mValueError\u001b[0m                                Traceback (most recent call last)",
      "\u001b[0;32m<ipython-input-55-3be840008873>\u001b[0m in \u001b[0;36m<module>\u001b[0;34m\u001b[0m\n\u001b[0;32m----> 1\u001b[0;31m \u001b[0mhamming_loss\u001b[0m\u001b[0;34m(\u001b[0m\u001b[0mlabels\u001b[0m\u001b[0;34m,\u001b[0m \u001b[0mconverted\u001b[0m\u001b[0;34m)\u001b[0m\u001b[0;34m\u001b[0m\u001b[0;34m\u001b[0m\u001b[0m\n\u001b[0m",
      "\u001b[0;32m~/anaconda3/envs/yolact/lib/python3.7/site-packages/sklearn/metrics/_classification.py\u001b[0m in \u001b[0;36mhamming_loss\u001b[0;34m(y_true, y_pred, labels, sample_weight)\u001b[0m\n\u001b[1;32m   2148\u001b[0m     \"\"\"\n\u001b[1;32m   2149\u001b[0m \u001b[0;34m\u001b[0m\u001b[0m\n\u001b[0;32m-> 2150\u001b[0;31m     \u001b[0my_type\u001b[0m\u001b[0;34m,\u001b[0m \u001b[0my_true\u001b[0m\u001b[0;34m,\u001b[0m \u001b[0my_pred\u001b[0m \u001b[0;34m=\u001b[0m \u001b[0m_check_targets\u001b[0m\u001b[0;34m(\u001b[0m\u001b[0my_true\u001b[0m\u001b[0;34m,\u001b[0m \u001b[0my_pred\u001b[0m\u001b[0;34m)\u001b[0m\u001b[0;34m\u001b[0m\u001b[0;34m\u001b[0m\u001b[0m\n\u001b[0m\u001b[1;32m   2151\u001b[0m     \u001b[0mcheck_consistent_length\u001b[0m\u001b[0;34m(\u001b[0m\u001b[0my_true\u001b[0m\u001b[0;34m,\u001b[0m \u001b[0my_pred\u001b[0m\u001b[0;34m,\u001b[0m \u001b[0msample_weight\u001b[0m\u001b[0;34m)\u001b[0m\u001b[0;34m\u001b[0m\u001b[0;34m\u001b[0m\u001b[0m\n\u001b[1;32m   2152\u001b[0m \u001b[0;34m\u001b[0m\u001b[0m\n",
      "\u001b[0;32m~/anaconda3/envs/yolact/lib/python3.7/site-packages/sklearn/metrics/_classification.py\u001b[0m in \u001b[0;36m_check_targets\u001b[0;34m(y_true, y_pred)\u001b[0m\n\u001b[1;32m     88\u001b[0m     \u001b[0;32mif\u001b[0m \u001b[0mlen\u001b[0m\u001b[0;34m(\u001b[0m\u001b[0my_type\u001b[0m\u001b[0;34m)\u001b[0m \u001b[0;34m>\u001b[0m \u001b[0;36m1\u001b[0m\u001b[0;34m:\u001b[0m\u001b[0;34m\u001b[0m\u001b[0;34m\u001b[0m\u001b[0m\n\u001b[1;32m     89\u001b[0m         raise ValueError(\"Classification metrics can't handle a mix of {0} \"\n\u001b[0;32m---> 90\u001b[0;31m                          \"and {1} targets\".format(type_true, type_pred))\n\u001b[0m\u001b[1;32m     91\u001b[0m \u001b[0;34m\u001b[0m\u001b[0m\n\u001b[1;32m     92\u001b[0m     \u001b[0;31m# We can't have more than one value on y_type => The set is no more needed\u001b[0m\u001b[0;34m\u001b[0m\u001b[0;34m\u001b[0m\u001b[0;34m\u001b[0m\u001b[0m\n",
      "\u001b[0;31mValueError\u001b[0m: Classification metrics can't handle a mix of multilabel-indicator and multiclass-multioutput targets"
     ]
    }
   ],
   "source": [
    "hamming_loss(labels, converted)"
   ]
  },
  {
   "cell_type": "code",
   "execution_count": 66,
   "metadata": {},
   "outputs": [
    {
     "data": {
      "text/plain": [
       "0.5"
      ]
     },
     "execution_count": 66,
     "metadata": {},
     "output_type": "execute_result"
    }
   ],
   "source": [
    "import numpy as np\n",
    "\n",
    "hamming_loss(np.array([[1,0,1],\n",
    "                       [0,0,1]]), np.zeros((2,3)))"
   ]
  },
  {
   "cell_type": "code",
   "execution_count": null,
   "metadata": {},
   "outputs": [],
   "source": []
  },
  {
   "cell_type": "code",
   "execution_count": null,
   "metadata": {},
   "outputs": [],
   "source": []
  },
  {
   "cell_type": "code",
   "execution_count": 14,
   "metadata": {},
   "outputs": [
    {
     "data": {
      "text/plain": [
       "tensor([1, 0, 2, 3, 4, 0, 1, 0])"
      ]
     },
     "execution_count": 14,
     "metadata": {},
     "output_type": "execute_result"
    }
   ],
   "source": []
  },
  {
   "cell_type": "code",
   "execution_count": null,
   "metadata": {},
   "outputs": [],
   "source": []
  },
  {
   "cell_type": "code",
   "execution_count": null,
   "metadata": {},
   "outputs": [],
   "source": []
  },
  {
   "cell_type": "code",
   "execution_count": null,
   "metadata": {},
   "outputs": [],
   "source": []
  },
  {
   "cell_type": "code",
   "execution_count": 45,
   "metadata": {},
   "outputs": [
    {
     "name": "stdout",
     "output_type": "stream",
     "text": [
      "['Women' 'Men' 'Unisex' 'Boys' 'Girls']\n",
      "['Winter' 'Summer' 'Fall' 'Spring' nan]\n",
      "      image_path  gender  season\n",
      "0      23737.jpg       0       0\n",
      "1      25077.jpg       1       0\n",
      "2      34345.jpg       1       1\n",
      "3      15266.jpg       0       2\n",
      "4      15972.jpg       1       2\n",
      "...          ...     ...     ...\n",
      "31995  38938.jpg       3       1\n",
      "31996   9432.jpg       1       1\n",
      "31997   8838.jpg       1       1\n",
      "31998  22981.jpg       1       2\n",
      "31999  34171.jpg       3       1\n",
      "\n",
      "[32000 rows x 3 columns]\n"
     ]
    }
   ],
   "source": [
    "import csv\n",
    "import pandas as pd\n",
    "\n",
    "\n",
    "data = pd.read_csv('./data/train.csv', sep = \",\", dtype='unicode')\n",
    "\n",
    "\n",
    "\n",
    "for i in range(len(data['image_path'])):\n",
    "    data['image_path'][i] = data['image_path'][i].rsplit('/', 1)[-1]\n",
    "\n",
    "\n",
    "print(data['gender'].unique())\n",
    "print(data['season'].unique())\n",
    "\n",
    "data['gender'] = pd.factorize(data['gender'])[0]\n",
    "data['season'] = pd.factorize(data['season'])[0]\n",
    "\n",
    "print(data)\n",
    "\n",
    "data = data[data['season'] != -1]\n",
    "\n",
    "data.to_csv('train_labels1.txt', index=False, header=None, sep=\" \")\n",
    "\n",
    "\n"
   ]
  },
  {
   "cell_type": "code",
   "execution_count": 23,
   "metadata": {},
   "outputs": [],
   "source": [
    "import numpy as np"
   ]
  },
  {
   "cell_type": "code",
   "execution_count": 25,
   "metadata": {},
   "outputs": [
    {
     "data": {
      "text/plain": [
       "1    15902\n",
       "0    13451\n",
       "2     1587\n",
       "3      579\n",
       "4      481\n",
       "Name: gender, dtype: int64"
      ]
     },
     "execution_count": 25,
     "metadata": {},
     "output_type": "execute_result"
    }
   ],
   "source": [
    "data['gender'].value_counts()"
   ]
  },
  {
   "cell_type": "code",
   "execution_count": 26,
   "metadata": {},
   "outputs": [
    {
     "data": {
      "text/plain": [
       " 1    15493\n",
       " 2     8288\n",
       " 0     6043\n",
       " 3     2157\n",
       "-1       19\n",
       "Name: season, dtype: int64"
      ]
     },
     "execution_count": 26,
     "metadata": {},
     "output_type": "execute_result"
    }
   ],
   "source": [
    "data['season'].value_counts()"
   ]
  },
  {
   "cell_type": "code",
   "execution_count": 29,
   "metadata": {},
   "outputs": [],
   "source": [
    "data = data[data['season'] != -1]"
   ]
  },
  {
   "cell_type": "code",
   "execution_count": 30,
   "metadata": {},
   "outputs": [
    {
     "data": {
      "text/plain": [
       "(31981, 3)"
      ]
     },
     "execution_count": 30,
     "metadata": {},
     "output_type": "execute_result"
    }
   ],
   "source": [
    "data.shape"
   ]
  },
  {
   "cell_type": "code",
   "execution_count": 34,
   "metadata": {},
   "outputs": [],
   "source": [
    "value = (data.iloc[:,1].values, data.iloc[:,2].values)"
   ]
  },
  {
   "cell_type": "code",
   "execution_count": 39,
   "metadata": {},
   "outputs": [
    {
     "name": "stderr",
     "output_type": "stream",
     "text": [
      "/home/youngwoon/anaconda3/envs/yolact/lib/python3.7/site-packages/ipykernel_launcher.py:1: SettingWithCopyWarning: \n",
      "A value is trying to be set on a copy of a slice from a DataFrame.\n",
      "Try using .loc[row_indexer,col_indexer] = value instead\n",
      "\n",
      "See the caveats in the documentation: https://pandas.pydata.org/pandas-docs/stable/user_guide/indexing.html#returning-a-view-versus-a-copy\n",
      "  \"\"\"Entry point for launching an IPython kernel.\n"
     ]
    }
   ],
   "source": [
    "data['tuple'] = data[['gender', 'season']].apply(lambda x: (x[0], x[1]), axis=1)"
   ]
  },
  {
   "cell_type": "code",
   "execution_count": 44,
   "metadata": {},
   "outputs": [
    {
     "data": {
      "text/plain": [
       "{0: (1, 1),\n",
       " 1: (0, 1),\n",
       " 2: (1, 2),\n",
       " 3: (0, 0),\n",
       " 4: (0, 2),\n",
       " 5: (1, 0),\n",
       " 6: (0, 3),\n",
       " 7: (1, 3),\n",
       " 8: (2, 1),\n",
       " 9: (3, 1),\n",
       " 10: (2, 0),\n",
       " 11: (4, 1),\n",
       " 12: (2, 2),\n",
       " 13: (3, 2),\n",
       " 14: (2, 3),\n",
       " 15: (4, 2),\n",
       " 16: (4, 0),\n",
       " 17: (3, 0),\n",
       " 18: (4, 3),\n",
       " 19: (3, 3)}"
      ]
     },
     "execution_count": 44,
     "metadata": {},
     "output_type": "execute_result"
    }
   ],
   "source": [
    "{i: v for i,v in enumerate(data['tuple'].value_counts().index)}"
   ]
  },
  {
   "cell_type": "code",
   "execution_count": 2,
   "metadata": {},
   "outputs": [
    {
     "data": {
      "text/plain": [
       "{1, 2, 3, 4}"
      ]
     },
     "execution_count": 2,
     "metadata": {},
     "output_type": "execute_result"
    }
   ],
   "source": [
    "a = [1,2,3,4,4]\n",
    "\n",
    "set(a)"
   ]
  }
 ],
 "metadata": {
  "kernelspec": {
   "display_name": "Python 3",
   "language": "python",
   "name": "python3"
  },
  "language_info": {
   "codemirror_mode": {
    "name": "ipython",
    "version": 3
   },
   "file_extension": ".py",
   "mimetype": "text/x-python",
   "name": "python",
   "nbconvert_exporter": "python",
   "pygments_lexer": "ipython3",
   "version": "3.7.7-final"
  }
 },
 "nbformat": 4,
 "nbformat_minor": 4
}